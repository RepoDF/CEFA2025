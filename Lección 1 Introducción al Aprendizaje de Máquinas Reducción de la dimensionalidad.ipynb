{
 "cells": [
  {
   "cell_type": "markdown",
   "metadata": {},
   "source": [
    "## Lección 2. Introducción al aprendizaje de máquina Reducción de la dimensionalidad \n",
    "\n",
    "### Modelos de aprendizaje de máquinas Reducción de la dimensionalidad.\n",
    "\n",
    "### Objetivos Notebook Introducción al Aprendizaje de Máquinas Reducción de la dimensionalidad: \n",
    "\n",
    "1. Introducir modelos de Reducción de la dimensionalidad aplicada a la gestión de portafolios de portafolios. "
   ]
  },
  {
   "cell_type": "markdown",
   "metadata": {},
   "source": [
    "### Ejemplo Factores de riesgo estadísticos\n",
    "\n",
    "Utilizando los siguientes datos. Encuentre los componentes principales usando los valores propios de la matriz y el método de descomposición de valores singulares y el de Minimum Linear Torsion.\n",
    "\n",
    "| Nombre       | Descripción                                                                                        |\n",
    "| ------------ | -------------------------------------------------------------------------------------------------- |\n",
    "| Cash         | Índice de ICE Tresury Notes & Bills con vencimiento 0-3 meses                                      |\n",
    "| TIPS         | Bonos del Tesoro de EE. UU. indexados a la inflación (TIPS), 1-5 años​                             |\n",
    "| Corporativos | Bonos Corporativos con calificación crediticia AAA-A, 1-5 años​                                    |\n",
    "| Emergentes   | Índice de ICE de Bonos Corporativos de Mercados Emergentes.                                        |\n",
    "| MBS          | Índice de ICE de títulos respaldados por hipotecas emitidas por Agencias de EE. UU. (Agency MBS)​. |\n",
    "| Equity       | Índice de retorno total del S&P500                                                                 |"
   ]
  },
  {
   "cell_type": "code",
   "execution_count": 2,
   "metadata": {},
   "outputs": [
    {
     "ename": "ModuleNotFoundError",
     "evalue": "No module named 'sklearn'",
     "output_type": "error",
     "traceback": [
      "\u001b[1;31m---------------------------------------------------------------------------\u001b[0m",
      "\u001b[1;31mModuleNotFoundError\u001b[0m                       Traceback (most recent call last)",
      "Cell \u001b[1;32mIn[2], line 4\u001b[0m\n\u001b[0;32m      2\u001b[0m \u001b[38;5;28;01mimport\u001b[39;00m\u001b[38;5;250m \u001b[39m\u001b[38;5;21;01mpandas\u001b[39;00m\u001b[38;5;250m \u001b[39m\u001b[38;5;28;01mas\u001b[39;00m\u001b[38;5;250m \u001b[39m\u001b[38;5;21;01mpd\u001b[39;00m\n\u001b[0;32m      3\u001b[0m \u001b[38;5;28;01mfrom\u001b[39;00m\u001b[38;5;250m \u001b[39m\u001b[38;5;21;01mlibrerias\u001b[39;00m\u001b[38;5;21;01m.\u001b[39;00m\u001b[38;5;21;01mfinance_operators\u001b[39;00m\u001b[38;5;250m \u001b[39m\u001b[38;5;28;01mimport\u001b[39;00m calculateLogReturns\n\u001b[1;32m----> 4\u001b[0m \u001b[38;5;28;01mfrom\u001b[39;00m\u001b[38;5;250m \u001b[39m\u001b[38;5;21;01mlibrerias\u001b[39;00m\u001b[38;5;21;01m.\u001b[39;00m\u001b[38;5;21;01mtorsion\u001b[39;00m\u001b[38;5;250m \u001b[39m\u001b[38;5;28;01mimport\u001b[39;00m torsion\n",
      "File \u001b[1;32mc:\\Users\\jcamargo\\OneDrive - FLAR\\Documentos\\CEFA Clone 3\\CEFA2025\\librerias\\torsion.py:4\u001b[0m\n\u001b[0;32m      2\u001b[0m \u001b[38;5;28;01mfrom\u001b[39;00m\u001b[38;5;250m \u001b[39m\u001b[38;5;21;01mnumpy\u001b[39;00m\u001b[38;5;250m \u001b[39m\u001b[38;5;28;01mimport\u001b[39;00m linalg \n\u001b[0;32m      3\u001b[0m \u001b[38;5;28;01mfrom\u001b[39;00m\u001b[38;5;250m \u001b[39m\u001b[38;5;21;01mscipy\u001b[39;00m\u001b[38;5;21;01m.\u001b[39;00m\u001b[38;5;21;01mlinalg\u001b[39;00m\u001b[38;5;250m \u001b[39m\u001b[38;5;28;01mimport\u001b[39;00m sqrtm\n\u001b[1;32m----> 4\u001b[0m \u001b[38;5;28;01mfrom\u001b[39;00m\u001b[38;5;250m \u001b[39m\u001b[38;5;21;01msklearn\u001b[39;00m\u001b[38;5;21;01m.\u001b[39;00m\u001b[38;5;21;01mdecomposition\u001b[39;00m\u001b[38;5;250m \u001b[39m\u001b[38;5;28;01mimport\u001b[39;00m PCA\n\u001b[0;32m      7\u001b[0m \u001b[38;5;28;01mdef\u001b[39;00m\u001b[38;5;250m \u001b[39m\u001b[38;5;21mtorsion\u001b[39m(Sigma, Returns, model, method\u001b[38;5;241m=\u001b[39m\u001b[38;5;124m'\u001b[39m\u001b[38;5;124mexact\u001b[39m\u001b[38;5;124m'\u001b[39m, max_niter\u001b[38;5;241m=\u001b[39m\u001b[38;5;241m10000\u001b[39m, npcomp \u001b[38;5;241m=\u001b[39m \u001b[38;5;241m6\u001b[39m):\n\u001b[0;32m      8\u001b[0m     n \u001b[38;5;241m=\u001b[39m Sigma\u001b[38;5;241m.\u001b[39mshape[\u001b[38;5;241m0\u001b[39m]    \n",
      "\u001b[1;31mModuleNotFoundError\u001b[0m: No module named 'sklearn'"
     ]
    }
   ],
   "source": [
    "# Cargar los datos del S&P 500.\n",
    "import pandas as pd\n",
    "from librerias.finance_operators import calculateLogReturns\n",
    "from librerias.torsion import torsion"
   ]
  },
  {
   "cell_type": "code",
   "execution_count": null,
   "metadata": {},
   "outputs": [],
   "source": [
    "indices = pd.read_csv('Datos\\\\'+'Índices.csv', sep = ';')\n",
    "indices"
   ]
  },
  {
   "cell_type": "code",
   "execution_count": null,
   "metadata": {},
   "outputs": [],
   "source": [
    "indices.index = pd.to_datetime(indices['ID'])\n",
    "indices = indices.drop(columns=['ID'])\n",
    "indices"
   ]
  },
  {
   "cell_type": "code",
   "execution_count": null,
   "metadata": {},
   "outputs": [],
   "source": [
    "df_returns = calculateLogReturns(indices)\n",
    "df_returns = df_returns.dropna() \n",
    "covariance_matrix = df_returns.cov()\n",
    "minimum_torsion_matrix = torsion(covariance_matrix, df_returns, \"minimum-torsion\", method='exact', max_niter=100000)"
   ]
  },
  {
   "cell_type": "code",
   "execution_count": null,
   "metadata": {},
   "outputs": [],
   "source": [
    "# Aquí normalizamos los retornos antes de aplicarles el método de PCA.\n",
    "df_returns = (df_returns - df_returns.mean())/len(df_returns) "
   ]
  },
  {
   "cell_type": "code",
   "execution_count": null,
   "metadata": {},
   "outputs": [],
   "source": [
    "pca_matrix1_m1 = torsion(covariance_matrix, df_returns ,\"PCA\", method='exact', max_niter=10000, npcomp = 6)\n",
    "pca_matrix1_m2 = torsion(covariance_matrix, df_returns ,\"PCA-SVD\", method='exact', max_niter=10000, npcomp = 6)"
   ]
  },
  {
   "cell_type": "code",
   "execution_count": null,
   "metadata": {},
   "outputs": [],
   "source": [
    "factor_index = ['Factor'+str(x) for x in range(1, len(df_returns.columns)+1)]\n",
    "factor_loadings_mlt = pd.DataFrame(minimum_torsion_matrix, columns = covariance_matrix.columns, index =factor_index)\n",
    "factor_loadings_mlt"
   ]
  },
  {
   "cell_type": "code",
   "execution_count": null,
   "metadata": {},
   "outputs": [],
   "source": [
    "factor_loadings_pca_m1 = pd.DataFrame(pca_matrix1_m1, columns = covariance_matrix.columns, index = factor_index)\n",
    "factor_loadings_pca_m2 = pd.DataFrame(pca_matrix1_m2, columns = covariance_matrix.columns, index = factor_index)\n"
   ]
  },
  {
   "cell_type": "markdown",
   "metadata": {},
   "source": [
    "El algoritmo de Minimum Linear Torsion desarrollado por Romain Deguest et Al (2013) es un método para obtener factores estadísticos y poder desarrollar aplicaciones de Risk Budgesting o de optimización por Risk Parity. El método obtiene factores ortogonales que son mas intepretables que el modelo de PCA convencional. "
   ]
  },
  {
   "cell_type": "code",
   "execution_count": null,
   "metadata": {},
   "outputs": [],
   "source": [
    "ax = factor_loadings_mlt.plot.bar()\n",
    "ax.set_title('Factores de Carga Método MLT')"
   ]
  },
  {
   "cell_type": "code",
   "execution_count": null,
   "metadata": {},
   "outputs": [],
   "source": [
    "ax = factor_loadings_pca_m1.plot.bar()\n",
    "ax.set_title('Factores de Carga Método PCA')"
   ]
  },
  {
   "cell_type": "code",
   "execution_count": null,
   "metadata": {},
   "outputs": [],
   "source": [
    "ax = factor_loadings_pca_m2.plot.bar()\n",
    "ax.set_title('Factores de Carga Método SVD')"
   ]
  },
  {
   "cell_type": "markdown",
   "metadata": {},
   "source": [
    "### Ejemplo 3: Obtención de Factores de Nivel, Pendiente y Curva con PCA.\n",
    "\n",
    "Una de las principales aplicaciones de PCA Y de las poco donde guarda interpretabilidad es la de Componentes Principales aplicado a la curva de rendimientos. Al aplicarlo sobre los yields, crea los componentes de nivel, pendiente y curvatura. Antes de examinar la aplicación revisemos un poco algunas características de los datos:"
   ]
  },
  {
   "cell_type": "code",
   "execution_count": null,
   "metadata": {},
   "outputs": [],
   "source": [
    "import pandas as pd\n",
    "import numpy as np\n",
    "import matplotlib.pyplot as pl\n",
    "from librerias.extract_data import get_data \n",
    "from librerias.graphs import *\n",
    "\n",
    "#yield_df = get_data(start_year=2010,end_year=2023)\n",
    "#yield_df = yield_df.sort_index()\n",
    "# yield_df.to_csv('Datos\\\\'+'Yields_2010-2023.csv')"
   ]
  },
  {
   "cell_type": "code",
   "execution_count": null,
   "metadata": {},
   "outputs": [],
   "source": [
    "yield_df = pd.read_csv('Datos\\\\'+'Yields_2010-2023.csv')\n",
    "yield_df.index = pd.to_datetime(yield_df.loc[:,'Date'])  \n",
    "yield_df = yield_df.dropna()\n",
    "yield_df = yield_df.iloc[:,1:]\n",
    "yield_df"
   ]
  },
  {
   "cell_type": "code",
   "execution_count": null,
   "metadata": {},
   "outputs": [],
   "source": [
    "yield_df.corr() \n",
    "### Note que la correlación es mayor cuando el vencimiento de los títulos es similar."
   ]
  },
  {
   "cell_type": "code",
   "execution_count": null,
   "metadata": {},
   "outputs": [],
   "source": [
    "yield_df.mean()"
   ]
  },
  {
   "cell_type": "markdown",
   "metadata": {},
   "source": [
    "Se puede notar que efectivamente hay cierta prima termino en promedio a lo largo del tiempo."
   ]
  },
  {
   "cell_type": "code",
   "execution_count": null,
   "metadata": {},
   "outputs": [],
   "source": [
    "yield_df.diff().std()"
   ]
  },
  {
   "cell_type": "markdown",
   "metadata": {},
   "source": [
    "Se muestra que a mayor plazo mayor desviación estándar."
   ]
  },
  {
   "cell_type": "code",
   "execution_count": null,
   "metadata": {},
   "outputs": [],
   "source": [
    "\n",
    "from sklearn.decomposition import PCA\n",
    "from sklearn.preprocessing import scale, StandardScaler\n",
    "#Step1: We calculate the mean of the scaled data.\n",
    "df_normalized_mean = pd.DataFrame(scale(yield_df))\n",
    "#Step2: Remove any missing data points\n",
    "df_normalized_mean.dropna(inplace=True)"
   ]
  },
  {
   "cell_type": "code",
   "execution_count": null,
   "metadata": {},
   "outputs": [],
   "source": [
    "\n",
    "instruments = yield_df.columns\n",
    "#Step3: We calculate the PCA using fit_transform\n",
    "components = ['Level', 'Slope', 'Curve']\n",
    "pca = PCA(n_components=len(components))\n",
    "\n",
    "YC_PCA = pca.fit_transform(df_normalized_mean)\n",
    "#Step4: Create a SCREE plot to check the weights of each component\n",
    "per_var = np.round(pca.explained_variance_ratio_ * 100, decimals=1)\n",
    "labels = ['PC' + str(x) for x in range(1, len(per_var)+1)]\n",
    "plt.bar(x=range(1, len(per_var)+1), height=per_var, tick_label=labels)\n",
    "plt.ylabel('Percentage of Explained Variance')\n",
    "plt.xlabel('Principal Component')\n",
    "plt.title('Scree Plot')\n"
   ]
  },
  {
   "cell_type": "code",
   "execution_count": null,
   "metadata": {},
   "outputs": [],
   "source": [
    "# Los eigenvalores de la matriz.\n",
    "\n",
    "pca.explained_variance_"
   ]
  },
  {
   "cell_type": "markdown",
   "metadata": {},
   "source": [
    "El 70% de la variación en las tasas se explica por el factor de nivel, el 26.7% por el factor de pendiente, el 2% por el factor de curvatura."
   ]
  },
  {
   "cell_type": "code",
   "execution_count": null,
   "metadata": {},
   "outputs": [],
   "source": [
    "plt.plot(labels, pca.explained_variance_ratio_.cumsum()*100)\n",
    "plt.ylabel('Percentage of Explained Variance')\n",
    "plt.xlabel('Principal Component')\n",
    "plt.title('Cumulative Explained Variance')"
   ]
  },
  {
   "cell_type": "code",
   "execution_count": null,
   "metadata": {},
   "outputs": [],
   "source": [
    "# \n",
    "PC1, PC2, PC3 = pca.components_[0],pca.components_[1],pca.components_[2]\n",
    "NumComponents = 3\n",
    "\n",
    "topPorfolios = pd.DataFrame(pca.components_[:NumComponents],columns=instruments)\n",
    "topPorfolios"
   ]
  },
  {
   "cell_type": "code",
   "execution_count": null,
   "metadata": {},
   "outputs": [],
   "source": [
    "\n",
    "eigenPortfolios = topPorfolios.div(topPorfolios.sum(1),axis=0)\n",
    "#eigenPortfolios.index = [ f'Portfolio {i}' for i in range(NumComponents)]\n",
    "eigenPortfolios.index = ['Level', 'Slope', 'Curvature']\n",
    "axs = eigenPortfolios.T.plot.bar(subplots=True,figsize=(14,10),legend=False)\n",
    "plt.subplots_adjust(hspace=0.25)\n",
    "axs[0].set_ylim(0,.14)"
   ]
  },
  {
   "cell_type": "code",
   "execution_count": null,
   "metadata": {},
   "outputs": [],
   "source": [
    "# En el lenguaje de Data Science a estos Factores se les conoce como 'Scores' o PC Scores\n",
    "orthogonal_factor = pd.DataFrame(YC_PCA, index = yield_df.index, columns = components)\n",
    "orthogonal_factor "
   ]
  },
  {
   "cell_type": "code",
   "execution_count": null,
   "metadata": {},
   "outputs": [],
   "source": [
    "orthogonal_factor = orthogonal_factor.sort_index()\n",
    "orthogonal_factor['Level'].plot()"
   ]
  },
  {
   "cell_type": "code",
   "execution_count": null,
   "metadata": {},
   "outputs": [],
   "source": [
    "orthogonal_factor['Slope'].plot()"
   ]
  },
  {
   "cell_type": "code",
   "execution_count": null,
   "metadata": {},
   "outputs": [],
   "source": [
    "orthogonal_factor['Curve'].plot()"
   ]
  },
  {
   "cell_type": "markdown",
   "metadata": {},
   "source": [
    "### Referencias \n",
    "\n",
    "EDHEC-Risk Institute (2019). Chapter 1.2 – Technical Supplement: Scientific. Lectures Notes for Advances in Asset Allocation Seminar 2020.\n",
    "\n",
    "EDHEC-Risk Institute (2019). Chapter 1.3 – Technical Supplement: Scientific. Lectures Notes for Advances in Asset Allocation Seminar 2020."
   ]
  }
 ],
 "metadata": {
  "kernelspec": {
   "display_name": "CEFA_2025_env",
   "language": "python",
   "name": "python3"
  },
  "language_info": {
   "codemirror_mode": {
    "name": "ipython",
    "version": 3
   },
   "file_extension": ".py",
   "mimetype": "text/x-python",
   "name": "python",
   "nbconvert_exporter": "python",
   "pygments_lexer": "ipython3",
   "version": "3.9.5"
  }
 },
 "nbformat": 4,
 "nbformat_minor": 2
}
