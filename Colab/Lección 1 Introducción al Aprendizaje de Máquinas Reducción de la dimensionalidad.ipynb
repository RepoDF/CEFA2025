{
 "cells": [
  {
   "cell_type": "markdown",
   "metadata": {},
   "source": [
    "## Lección 2. Introducción al aprendizaje de máquina Reducción de la dimensionalidad \n",
    "\n",
    "### Modelos de aprendizaje de máquinas Reducción de la dimensionalidad.\n",
    "\n",
    "### Objetivos Notebook Introducción al Aprendizaje de Máquinas Reducción de la dimensionalidad: \n",
    "\n",
    "1. Introducir modelos de Reducción de la dimensionalidad aplicada a la gestión de portafolios de portafolios. "
   ]
  },
  {
   "cell_type": "markdown",
   "metadata": {},
   "source": [
    "### Ejemplo Factores de riesgo estadísticos\n",
    "\n",
    "Utilizando los siguientes datos. Encuentre los componentes principales usando los valores propios de la matriz y el método de descomposición de valores singulares y el de Minimum Linear Torsion.\n",
    "\n",
    "| Nombre       | Descripción                                                                                        |\n",
    "| ------------ | -------------------------------------------------------------------------------------------------- |\n",
    "| Cash         | Índice de ICE Tresury Notes & Bills con vencimiento 0-3 meses                                      |\n",
    "| TIPS         | Bonos del Tesoro de EE. UU. indexados a la inflación (TIPS), 1-5 años​                             |\n",
    "| Corporativos | Bonos Corporativos con calificación crediticia AAA-A, 1-5 años​                                    |\n",
    "| Emergentes   | Índice de ICE de Bonos Corporativos de Mercados Emergentes.                                        |\n",
    "| MBS          | Índice de ICE de títulos respaldados por hipotecas emitidas por Agencias de EE. UU. (Agency MBS)​. |\n",
    "| Equity       | Índice de retorno total del S&P500                                                                 |"
   ]
  },
  {
   "cell_type": "markdown",
   "metadata": {},
   "source": [
    "Nota: Para correr este notebook en colab, es nesesario crear una carpeta llamada **datos** y dentro de ella agregar el archivo **\"Índices.csv\"**. Puede descargarlo del repositorio de GitHub [CEFA 2025 - Repositorio](https://github.com/RepoDF/CEFA2025) o desde el siguiente Drive [CEFA 2025 Datos Notebooks](https://drive.google.com/drive/folders/1JY-Dy7kaSLINKBK4HDOV6fyLKa7R_1Zm?usp=drive_link).\n"
   ]
  },
  {
   "cell_type": "code",
   "execution_count": 58,
   "metadata": {},
   "outputs": [
    {
     "name": "stdout",
     "output_type": "stream",
     "text": [
      "Requirement already satisfied: scipy in c:\\users\\juanj\\appdata\\local\\programs\\python\\python311\\lib\\site-packages (1.15.2)\n",
      "Requirement already satisfied: matplotlib in c:\\users\\juanj\\appdata\\local\\programs\\python\\python311\\lib\\site-packages (3.10.0)\n",
      "Requirement already satisfied: pandas in c:\\users\\juanj\\appdata\\local\\programs\\python\\python311\\lib\\site-packages (2.2.3)\n",
      "Requirement already satisfied: numpy in c:\\users\\juanj\\appdata\\local\\programs\\python\\python311\\lib\\site-packages (2.2.1)\n",
      "Requirement already satisfied: scikit-learn in c:\\users\\juanj\\appdata\\local\\programs\\python\\python311\\lib\\site-packages (1.6.1)\n",
      "Requirement already satisfied: contourpy>=1.0.1 in c:\\users\\juanj\\appdata\\local\\programs\\python\\python311\\lib\\site-packages (from matplotlib) (1.3.1)\n",
      "Requirement already satisfied: cycler>=0.10 in c:\\users\\juanj\\appdata\\local\\programs\\python\\python311\\lib\\site-packages (from matplotlib) (0.12.1)\n",
      "Requirement already satisfied: fonttools>=4.22.0 in c:\\users\\juanj\\appdata\\local\\programs\\python\\python311\\lib\\site-packages (from matplotlib) (4.56.0)\n",
      "Requirement already satisfied: kiwisolver>=1.3.1 in c:\\users\\juanj\\appdata\\local\\programs\\python\\python311\\lib\\site-packages (from matplotlib) (1.4.8)\n",
      "Requirement already satisfied: packaging>=20.0 in c:\\users\\juanj\\appdata\\local\\programs\\python\\python311\\lib\\site-packages (from matplotlib) (24.2)\n",
      "Requirement already satisfied: pillow>=8 in c:\\users\\juanj\\appdata\\local\\programs\\python\\python311\\lib\\site-packages (from matplotlib) (11.1.0)\n",
      "Requirement already satisfied: pyparsing>=2.3.1 in c:\\users\\juanj\\appdata\\local\\programs\\python\\python311\\lib\\site-packages (from matplotlib) (3.2.1)\n",
      "Requirement already satisfied: python-dateutil>=2.7 in c:\\users\\juanj\\appdata\\local\\programs\\python\\python311\\lib\\site-packages (from matplotlib) (2.9.0.post0)\n",
      "Requirement already satisfied: pytz>=2020.1 in c:\\users\\juanj\\appdata\\local\\programs\\python\\python311\\lib\\site-packages (from pandas) (2024.2)\n",
      "Requirement already satisfied: tzdata>=2022.7 in c:\\users\\juanj\\appdata\\local\\programs\\python\\python311\\lib\\site-packages (from pandas) (2024.2)\n",
      "Requirement already satisfied: joblib>=1.2.0 in c:\\users\\juanj\\appdata\\local\\programs\\python\\python311\\lib\\site-packages (from scikit-learn) (1.4.2)\n",
      "Requirement already satisfied: threadpoolctl>=3.1.0 in c:\\users\\juanj\\appdata\\local\\programs\\python\\python311\\lib\\site-packages (from scikit-learn) (3.5.0)\n",
      "Requirement already satisfied: six>=1.5 in c:\\users\\juanj\\appdata\\local\\programs\\python\\python311\\lib\\site-packages (from python-dateutil>=2.7->matplotlib) (1.17.0)\n",
      "Note: you may need to restart the kernel to use updated packages.\n"
     ]
    }
   ],
   "source": [
    "# Instalar las librerías en el entorno de ejecución\n",
    "%pip install scipy matplotlib pandas numpy scikit-learn"
   ]
  },
  {
   "cell_type": "code",
   "execution_count": 59,
   "metadata": {},
   "outputs": [],
   "source": [
    "# Cargar los datos del S&P 500.\n",
    "import os\n",
    "import pandas as pd\n",
    "import numpy as np\n",
    "import matplotlib.pyplot as plt\n",
    "\n",
    "from numpy import linalg \n",
    "from scipy.linalg import sqrtm\n",
    "from sklearn.decomposition import PCA\n"
   ]
  },
  {
   "cell_type": "code",
   "execution_count": 60,
   "metadata": {},
   "outputs": [],
   "source": [
    "\n",
    "path = os.path.dirname(os.getcwd())\n",
    "\n",
    "if path == '/': # Si estamos en la raíz del sistema, entonces no es necesario agregar la carpeta datos. (Aplica en Google Colab)\n",
    "    file_path = os.path.join('datos', 'Índices.csv')\n",
    "else:\n",
    "    file_path = os.path.join(path,'datos', 'Índices.csv')\n",
    "    \n",
    "    \n",
    "indices = pd.read_csv(file_path, sep=';', index_col=0, parse_dates=True)"
   ]
  },
  {
   "cell_type": "code",
   "execution_count": 61,
   "metadata": {},
   "outputs": [],
   "source": [
    "def calculateLogReturns(df): \n",
    "    return np.log((df.shift(-1)/df).shift(1))"
   ]
  },
  {
   "cell_type": "code",
   "execution_count": 62,
   "metadata": {},
   "outputs": [],
   "source": [
    "\n",
    "\n",
    "\n",
    "def torsion(Sigma, Returns, model, method='exact', max_niter=10000, npcomp = 6):\n",
    "    n = Sigma.shape[0]    \n",
    "    \n",
    "    if model == 'PCA':\n",
    "        eigval, eigvec = linalg.eig(Sigma)\n",
    "        idx = np.argsort(-eigval) \n",
    "        t = eigvec[:,idx]\n",
    "\n",
    "    elif model == 'PCA-SVD':\n",
    "        \n",
    "        \n",
    "        pca = PCA(n_components=npcomp)\n",
    "        X = pca.fit_transform(Returns)\n",
    "        \n",
    "        eigval, eigvec = pca.explained_variance_, pca.components_ \n",
    "        t = eigvec\n",
    "        \n",
    "        \n",
    "    elif model == 'minimum-torsion':\n",
    "        # C: correlation matrix\n",
    "        sigma = np.sqrt(np.diag(Sigma))\n",
    "        C = np.asmatrix(np.diag(1.0/sigma)) * np.asmatrix(Sigma) * np.asmatrix(np.diag(1.0/sigma))\n",
    "        # Riccati root of correlation matrix\n",
    "        c = sqrtm(C)\n",
    "        if method == 'approximate':\n",
    "            t = (np.asmatrix(sigma) / np.asmatrix(c)) * np.asmatrix(np.diag(1.0/sigma))\n",
    "        elif method == 'exact':\n",
    "            # initialize\n",
    "            d = np.ones((n))\n",
    "            f = np.zeros((max_niter))\n",
    "            # iterating\n",
    "            for i in range(max_niter):\n",
    "                U = np.asmatrix(np.diag(d)) * c * c * np.asmatrix(np.diag(d))\n",
    "                u = sqrtm(U)\n",
    "                q = linalg.inv(u) * np.asmatrix(np.diag(d)) * c\n",
    "                d = np.diag(q * c)\n",
    "                pi = np.asmatrix(np.diag(d)) * q\n",
    "                f[i] = linalg.norm(c - pi, 'fro')\n",
    "                # if converge\n",
    "                if i > 0 and abs(f[i]-f[i-1])/f[i] <= 1e-4:\n",
    "                    f = f[0:i]\n",
    "                    break\n",
    "                elif i == max_niter and abs(f[max_niter]-f[max_niter-1])/f[max_niter] >= 1e-4:\n",
    "                    print('number of max iterations reached: n_iter = ' + str(max_niter))\n",
    "            x = pi * linalg.inv(np.asmatrix(c))\n",
    "            t = np.asmatrix(np.diag(sigma)) * x * np.asmatrix(np.diag(1.0/sigma))\n",
    "    return t"
   ]
  },
  {
   "cell_type": "code",
   "execution_count": 63,
   "metadata": {},
   "outputs": [],
   "source": [
    "df_returns = calculateLogReturns(indices)\n",
    "df_returns = df_returns.dropna() \n",
    "covariance_matrix = df_returns.cov()\n",
    "minimum_torsion_matrix = torsion(covariance_matrix, df_returns, \"minimum-torsion\", method='exact', max_niter=100000)"
   ]
  },
  {
   "cell_type": "code",
   "execution_count": 64,
   "metadata": {},
   "outputs": [],
   "source": [
    "# Aquí normalizamos los retornos antes de aplicarles el método de PCA.\n",
    "df_returns = (df_returns - df_returns.mean())/len(df_returns) "
   ]
  },
  {
   "cell_type": "code",
   "execution_count": 65,
   "metadata": {},
   "outputs": [],
   "source": [
    "pca_matrix1_m1 = torsion(covariance_matrix, df_returns ,\"PCA\", method='exact', max_niter=10000, npcomp = 6)\n",
    "pca_matrix1_m2 = torsion(covariance_matrix, df_returns ,\"PCA-SVD\", method='exact', max_niter=10000, npcomp = 6)"
   ]
  },
  {
   "cell_type": "code",
   "execution_count": 66,
   "metadata": {},
   "outputs": [
    {
     "data": {
      "text/html": [
       "<div>\n",
       "<style scoped>\n",
       "    .dataframe tbody tr th:only-of-type {\n",
       "        vertical-align: middle;\n",
       "    }\n",
       "\n",
       "    .dataframe tbody tr th {\n",
       "        vertical-align: top;\n",
       "    }\n",
       "\n",
       "    .dataframe thead th {\n",
       "        text-align: right;\n",
       "    }\n",
       "</style>\n",
       "<table border=\"1\" class=\"dataframe\">\n",
       "  <thead>\n",
       "    <tr style=\"text-align: right;\">\n",
       "      <th></th>\n",
       "      <th>Cash</th>\n",
       "      <th>Tips</th>\n",
       "      <th>Corporativos</th>\n",
       "      <th>MBS</th>\n",
       "      <th>Equity</th>\n",
       "      <th>Emergentes</th>\n",
       "    </tr>\n",
       "  </thead>\n",
       "  <tbody>\n",
       "    <tr>\n",
       "      <th>Factor1</th>\n",
       "      <td>1.000400</td>\n",
       "      <td>-0.001263</td>\n",
       "      <td>0.000340</td>\n",
       "      <td>0.000692</td>\n",
       "      <td>0.000189</td>\n",
       "      <td>0.000894</td>\n",
       "    </tr>\n",
       "    <tr>\n",
       "      <th>Factor2</th>\n",
       "      <td>-0.100370</td>\n",
       "      <td>1.170846</td>\n",
       "      <td>-0.319367</td>\n",
       "      <td>-0.143306</td>\n",
       "      <td>-0.002109</td>\n",
       "      <td>-0.093651</td>\n",
       "    </tr>\n",
       "    <tr>\n",
       "      <th>Factor3</th>\n",
       "      <td>0.021033</td>\n",
       "      <td>-0.248948</td>\n",
       "      <td>1.337090</td>\n",
       "      <td>-0.256783</td>\n",
       "      <td>0.011673</td>\n",
       "      <td>-0.197684</td>\n",
       "    </tr>\n",
       "    <tr>\n",
       "      <th>Factor4</th>\n",
       "      <td>0.096210</td>\n",
       "      <td>-0.250726</td>\n",
       "      <td>-0.576343</td>\n",
       "      <td>1.210565</td>\n",
       "      <td>0.002113</td>\n",
       "      <td>-0.059400</td>\n",
       "    </tr>\n",
       "    <tr>\n",
       "      <th>Factor5</th>\n",
       "      <td>0.754040</td>\n",
       "      <td>-0.105646</td>\n",
       "      <td>0.750192</td>\n",
       "      <td>0.060488</td>\n",
       "      <td>1.011917</td>\n",
       "      <td>-0.487969</td>\n",
       "    </tr>\n",
       "    <tr>\n",
       "      <th>Factor6</th>\n",
       "      <td>0.118438</td>\n",
       "      <td>-0.156080</td>\n",
       "      <td>-0.422654</td>\n",
       "      <td>-0.056583</td>\n",
       "      <td>-0.016234</td>\n",
       "      <td>1.129318</td>\n",
       "    </tr>\n",
       "  </tbody>\n",
       "</table>\n",
       "</div>"
      ],
      "text/plain": [
       "             Cash      Tips  Corporativos       MBS    Equity  Emergentes\n",
       "Factor1  1.000400 -0.001263      0.000340  0.000692  0.000189    0.000894\n",
       "Factor2 -0.100370  1.170846     -0.319367 -0.143306 -0.002109   -0.093651\n",
       "Factor3  0.021033 -0.248948      1.337090 -0.256783  0.011673   -0.197684\n",
       "Factor4  0.096210 -0.250726     -0.576343  1.210565  0.002113   -0.059400\n",
       "Factor5  0.754040 -0.105646      0.750192  0.060488  1.011917   -0.487969\n",
       "Factor6  0.118438 -0.156080     -0.422654 -0.056583 -0.016234    1.129318"
      ]
     },
     "execution_count": 66,
     "metadata": {},
     "output_type": "execute_result"
    }
   ],
   "source": [
    "factor_index = ['Factor'+str(x) for x in range(1, len(df_returns.columns)+1)]\n",
    "factor_loadings_mlt = pd.DataFrame(minimum_torsion_matrix, columns = covariance_matrix.columns, index =factor_index)\n",
    "factor_loadings_mlt"
   ]
  },
  {
   "cell_type": "code",
   "execution_count": 67,
   "metadata": {},
   "outputs": [],
   "source": [
    "factor_loadings_pca_m1 = pd.DataFrame(pca_matrix1_m1, columns = covariance_matrix.columns, index = factor_index)\n",
    "factor_loadings_pca_m2 = pd.DataFrame(pca_matrix1_m2, columns = covariance_matrix.columns, index = factor_index)\n"
   ]
  },
  {
   "cell_type": "markdown",
   "metadata": {},
   "source": [
    "El algoritmo de Minimum Linear Torsion desarrollado por Romain Deguest et Al (2013) es un método para obtener factores estadísticos y poder desarrollar aplicaciones de Risk Budgesting o de optimización por Risk Parity. El método obtiene factores ortogonales que son mas intepretables que el modelo de PCA convencional. "
   ]
  },
  {
   "cell_type": "code",
   "execution_count": 68,
   "metadata": {},
   "outputs": [
    {
     "data": {
      "text/plain": [
       "Text(0.5, 1.0, 'Factores de Carga Método MLT')"
      ]
     },
     "execution_count": 68,
     "metadata": {},
     "output_type": "execute_result"
    },
    {
     "data": {
      "image/png": "[encoded data removed]",
      "text/plain": [
       "<Figure size 640x480 with 1 Axes>"
      ]
     },
     "metadata": {},
     "output_type": "display_data"
    }
   ],
   "source": [
    "ax = factor_loadings_mlt.plot.bar()\n",
    "ax.set_title('Factores de Carga Método MLT')"
   ]
  },
  {
   "cell_type": "code",
   "execution_count": 69,
   "metadata": {},
   "outputs": [
    {
     "data": {
      "text/plain": [
       "Text(0.5, 1.0, 'Factores de Carga Método PCA')"
      ]
     },
     "execution_count": 69,
     "metadata": {},
     "output_type": "execute_result"
    },
    {
     "data": {
      "image/png": "[encoded data removed]",
      "text/plain": [
       "<Figure size 640x480 with 1 Axes>"
      ]
     },
     "metadata": {},
     "output_type": "display_data"
    }
   ],
   "source": [
    "ax = factor_loadings_pca_m1.plot.bar()\n",
    "ax.set_title('Factores de Carga Método PCA')"
   ]
  },
  {
   "cell_type": "code",
   "execution_count": 70,
   "metadata": {},
   "outputs": [
    {
     "data": {
      "text/plain": [
       "Text(0.5, 1.0, 'Factores de Carga Método SVD')"
      ]
     },
     "execution_count": 70,
     "metadata": {},
     "output_type": "execute_result"
    },
    {
     "data": {
      "image/png": "[encoded data removed]",
      "text/plain": [
       "<Figure size 640x480 with 1 Axes>"
      ]
     },
     "metadata": {},
     "output_type": "display_data"
    }
   ],
   "source": [
    "ax = factor_loadings_pca_m2.plot.bar()\n",
    "ax.set_title('Factores de Carga Método SVD')"
   ]
  },
  {
   "cell_type": "markdown",
   "metadata": {},
   "source": [
    "### Ejemplo 3: Obtención de Factores de Nivel, Pendiente y Curva con PCA.\n",
    "\n",
    "Una de las principales aplicaciones de PCA Y de las poco donde guarda interpretabilidad es la de Componentes Principales aplicado a la curva de rendimientos. Al aplicarlo sobre los yields, crea los componentes de nivel, pendiente y curvatura. Antes de examinar la aplicación revisemos un poco algunas características de los datos:"
   ]
  },
  {
   "cell_type": "code",
   "execution_count": 71,
   "metadata": {},
   "outputs": [],
   "source": [
    "import pandas as pd\n",
    "import numpy as np\n",
    "import matplotlib.pyplot as pl\n",
    "\n",
    "#yield_df = get_data(start_year=2010,end_year=2023)\n",
    "#yield_df = yield_df.sort_index()\n",
    "# yield_df.to_csv('Datos\\\\'+'Yields_2010-2023.csv')"
   ]
  },
  {
   "cell_type": "code",
   "execution_count": 72,
   "metadata": {},
   "outputs": [
    {
     "data": {
      "text/html": [
       "<div>\n",
       "<style scoped>\n",
       "    .dataframe tbody tr th:only-of-type {\n",
       "        vertical-align: middle;\n",
       "    }\n",
       "\n",
       "    .dataframe tbody tr th {\n",
       "        vertical-align: top;\n",
       "    }\n",
       "\n",
       "    .dataframe thead th {\n",
       "        text-align: right;\n",
       "    }\n",
       "</style>\n",
       "<table border=\"1\" class=\"dataframe\">\n",
       "  <thead>\n",
       "    <tr style=\"text-align: right;\">\n",
       "      <th></th>\n",
       "      <th>3 Mo</th>\n",
       "      <th>6 Mo</th>\n",
       "      <th>1 Yr</th>\n",
       "      <th>2 Yr</th>\n",
       "      <th>3 Yr</th>\n",
       "      <th>5 Yr</th>\n",
       "      <th>7 Yr</th>\n",
       "      <th>10 Yr</th>\n",
       "      <th>20 Yr</th>\n",
       "      <th>30 Yr</th>\n",
       "    </tr>\n",
       "    <tr>\n",
       "      <th>Date</th>\n",
       "      <th></th>\n",
       "      <th></th>\n",
       "      <th></th>\n",
       "      <th></th>\n",
       "      <th></th>\n",
       "      <th></th>\n",
       "      <th></th>\n",
       "      <th></th>\n",
       "      <th></th>\n",
       "      <th></th>\n",
       "    </tr>\n",
       "  </thead>\n",
       "  <tbody>\n",
       "    <tr>\n",
       "      <th>2010-01-04</th>\n",
       "      <td>0.08</td>\n",
       "      <td>0.18</td>\n",
       "      <td>0.45</td>\n",
       "      <td>1.09</td>\n",
       "      <td>1.66</td>\n",
       "      <td>2.65</td>\n",
       "      <td>3.36</td>\n",
       "      <td>3.85</td>\n",
       "      <td>4.60</td>\n",
       "      <td>4.65</td>\n",
       "    </tr>\n",
       "    <tr>\n",
       "      <th>2010-01-05</th>\n",
       "      <td>0.07</td>\n",
       "      <td>0.17</td>\n",
       "      <td>0.41</td>\n",
       "      <td>1.01</td>\n",
       "      <td>1.57</td>\n",
       "      <td>2.56</td>\n",
       "      <td>3.28</td>\n",
       "      <td>3.77</td>\n",
       "      <td>4.54</td>\n",
       "      <td>4.59</td>\n",
       "    </tr>\n",
       "    <tr>\n",
       "      <th>2010-01-06</th>\n",
       "      <td>0.06</td>\n",
       "      <td>0.15</td>\n",
       "      <td>0.40</td>\n",
       "      <td>1.01</td>\n",
       "      <td>1.60</td>\n",
       "      <td>2.60</td>\n",
       "      <td>3.33</td>\n",
       "      <td>3.85</td>\n",
       "      <td>4.63</td>\n",
       "      <td>4.70</td>\n",
       "    </tr>\n",
       "    <tr>\n",
       "      <th>2010-01-07</th>\n",
       "      <td>0.05</td>\n",
       "      <td>0.16</td>\n",
       "      <td>0.40</td>\n",
       "      <td>1.03</td>\n",
       "      <td>1.62</td>\n",
       "      <td>2.62</td>\n",
       "      <td>3.33</td>\n",
       "      <td>3.85</td>\n",
       "      <td>4.62</td>\n",
       "      <td>4.69</td>\n",
       "    </tr>\n",
       "    <tr>\n",
       "      <th>2010-01-08</th>\n",
       "      <td>0.05</td>\n",
       "      <td>0.15</td>\n",
       "      <td>0.37</td>\n",
       "      <td>0.96</td>\n",
       "      <td>1.56</td>\n",
       "      <td>2.57</td>\n",
       "      <td>3.31</td>\n",
       "      <td>3.83</td>\n",
       "      <td>4.61</td>\n",
       "      <td>4.70</td>\n",
       "    </tr>\n",
       "    <tr>\n",
       "      <th>...</th>\n",
       "      <td>...</td>\n",
       "      <td>...</td>\n",
       "      <td>...</td>\n",
       "      <td>...</td>\n",
       "      <td>...</td>\n",
       "      <td>...</td>\n",
       "      <td>...</td>\n",
       "      <td>...</td>\n",
       "      <td>...</td>\n",
       "      <td>...</td>\n",
       "    </tr>\n",
       "    <tr>\n",
       "      <th>2022-12-23</th>\n",
       "      <td>4.34</td>\n",
       "      <td>4.67</td>\n",
       "      <td>4.66</td>\n",
       "      <td>4.31</td>\n",
       "      <td>4.09</td>\n",
       "      <td>3.86</td>\n",
       "      <td>3.83</td>\n",
       "      <td>3.75</td>\n",
       "      <td>3.99</td>\n",
       "      <td>3.82</td>\n",
       "    </tr>\n",
       "    <tr>\n",
       "      <th>2022-12-27</th>\n",
       "      <td>4.46</td>\n",
       "      <td>4.76</td>\n",
       "      <td>4.75</td>\n",
       "      <td>4.32</td>\n",
       "      <td>4.17</td>\n",
       "      <td>3.94</td>\n",
       "      <td>3.93</td>\n",
       "      <td>3.84</td>\n",
       "      <td>4.10</td>\n",
       "      <td>3.93</td>\n",
       "    </tr>\n",
       "    <tr>\n",
       "      <th>2022-12-28</th>\n",
       "      <td>4.46</td>\n",
       "      <td>4.75</td>\n",
       "      <td>4.71</td>\n",
       "      <td>4.31</td>\n",
       "      <td>4.18</td>\n",
       "      <td>3.97</td>\n",
       "      <td>3.97</td>\n",
       "      <td>3.88</td>\n",
       "      <td>4.13</td>\n",
       "      <td>3.98</td>\n",
       "    </tr>\n",
       "    <tr>\n",
       "      <th>2022-12-29</th>\n",
       "      <td>4.45</td>\n",
       "      <td>4.73</td>\n",
       "      <td>4.71</td>\n",
       "      <td>4.34</td>\n",
       "      <td>4.16</td>\n",
       "      <td>3.94</td>\n",
       "      <td>3.91</td>\n",
       "      <td>3.83</td>\n",
       "      <td>4.09</td>\n",
       "      <td>3.92</td>\n",
       "    </tr>\n",
       "    <tr>\n",
       "      <th>2022-12-30</th>\n",
       "      <td>4.42</td>\n",
       "      <td>4.76</td>\n",
       "      <td>4.73</td>\n",
       "      <td>4.41</td>\n",
       "      <td>4.22</td>\n",
       "      <td>3.99</td>\n",
       "      <td>3.96</td>\n",
       "      <td>3.88</td>\n",
       "      <td>4.14</td>\n",
       "      <td>3.97</td>\n",
       "    </tr>\n",
       "  </tbody>\n",
       "</table>\n",
       "<p>3253 rows × 10 columns</p>\n",
       "</div>"
      ],
      "text/plain": [
       "            3 Mo  6 Mo  1 Yr  2 Yr  3 Yr  5 Yr  7 Yr  10 Yr  20 Yr  30 Yr\n",
       "Date                                                                     \n",
       "2010-01-04  0.08  0.18  0.45  1.09  1.66  2.65  3.36   3.85   4.60   4.65\n",
       "2010-01-05  0.07  0.17  0.41  1.01  1.57  2.56  3.28   3.77   4.54   4.59\n",
       "2010-01-06  0.06  0.15  0.40  1.01  1.60  2.60  3.33   3.85   4.63   4.70\n",
       "2010-01-07  0.05  0.16  0.40  1.03  1.62  2.62  3.33   3.85   4.62   4.69\n",
       "2010-01-08  0.05  0.15  0.37  0.96  1.56  2.57  3.31   3.83   4.61   4.70\n",
       "...          ...   ...   ...   ...   ...   ...   ...    ...    ...    ...\n",
       "2022-12-23  4.34  4.67  4.66  4.31  4.09  3.86  3.83   3.75   3.99   3.82\n",
       "2022-12-27  4.46  4.76  4.75  4.32  4.17  3.94  3.93   3.84   4.10   3.93\n",
       "2022-12-28  4.46  4.75  4.71  4.31  4.18  3.97  3.97   3.88   4.13   3.98\n",
       "2022-12-29  4.45  4.73  4.71  4.34  4.16  3.94  3.91   3.83   4.09   3.92\n",
       "2022-12-30  4.42  4.76  4.73  4.41  4.22  3.99  3.96   3.88   4.14   3.97\n",
       "\n",
       "[3253 rows x 10 columns]"
      ]
     },
     "execution_count": 72,
     "metadata": {},
     "output_type": "execute_result"
    }
   ],
   "source": [
    "\n",
    "if path == '/': # Si estamos en la raíz del sistema, entonces no es necesario agregar la carpeta datos. (Aplica en Google Colab)\n",
    "    file_path = os.path.join('datos', 'Yields_2010-2023.csv')\n",
    "else:\n",
    "    file_path = os.path.join(path,'datos', 'Yields_2010-2023.csv')\n",
    "     \n",
    "yield_df = pd.read_csv(file_path, sep=',', index_col=0, parse_dates=True)\n",
    "yield_df\n"
   ]
  },
  {
   "cell_type": "code",
   "execution_count": 73,
   "metadata": {},
   "outputs": [
    {
     "data": {
      "text/html": [
       "<div>\n",
       "<style scoped>\n",
       "    .dataframe tbody tr th:only-of-type {\n",
       "        vertical-align: middle;\n",
       "    }\n",
       "\n",
       "    .dataframe tbody tr th {\n",
       "        vertical-align: top;\n",
       "    }\n",
       "\n",
       "    .dataframe thead th {\n",
       "        text-align: right;\n",
       "    }\n",
       "</style>\n",
       "<table border=\"1\" class=\"dataframe\">\n",
       "  <thead>\n",
       "    <tr style=\"text-align: right;\">\n",
       "      <th></th>\n",
       "      <th>3 Mo</th>\n",
       "      <th>6 Mo</th>\n",
       "      <th>1 Yr</th>\n",
       "      <th>2 Yr</th>\n",
       "      <th>3 Yr</th>\n",
       "      <th>5 Yr</th>\n",
       "      <th>7 Yr</th>\n",
       "      <th>10 Yr</th>\n",
       "      <th>20 Yr</th>\n",
       "      <th>30 Yr</th>\n",
       "    </tr>\n",
       "  </thead>\n",
       "  <tbody>\n",
       "    <tr>\n",
       "      <th>3 Mo</th>\n",
       "      <td>1.000000</td>\n",
       "      <td>0.994131</td>\n",
       "      <td>0.978702</td>\n",
       "      <td>0.937747</td>\n",
       "      <td>0.886914</td>\n",
       "      <td>0.739279</td>\n",
       "      <td>0.573964</td>\n",
       "      <td>0.372704</td>\n",
       "      <td>0.159608</td>\n",
       "      <td>0.041155</td>\n",
       "    </tr>\n",
       "    <tr>\n",
       "      <th>6 Mo</th>\n",
       "      <td>0.994131</td>\n",
       "      <td>1.000000</td>\n",
       "      <td>0.993947</td>\n",
       "      <td>0.963417</td>\n",
       "      <td>0.917541</td>\n",
       "      <td>0.772179</td>\n",
       "      <td>0.604841</td>\n",
       "      <td>0.396808</td>\n",
       "      <td>0.180160</td>\n",
       "      <td>0.054328</td>\n",
       "    </tr>\n",
       "    <tr>\n",
       "      <th>1 Yr</th>\n",
       "      <td>0.978702</td>\n",
       "      <td>0.993947</td>\n",
       "      <td>1.000000</td>\n",
       "      <td>0.984645</td>\n",
       "      <td>0.947210</td>\n",
       "      <td>0.810104</td>\n",
       "      <td>0.643803</td>\n",
       "      <td>0.430585</td>\n",
       "      <td>0.207295</td>\n",
       "      <td>0.075824</td>\n",
       "    </tr>\n",
       "    <tr>\n",
       "      <th>2 Yr</th>\n",
       "      <td>0.937747</td>\n",
       "      <td>0.963417</td>\n",
       "      <td>0.984645</td>\n",
       "      <td>1.000000</td>\n",
       "      <td>0.986700</td>\n",
       "      <td>0.884565</td>\n",
       "      <td>0.734420</td>\n",
       "      <td>0.523103</td>\n",
       "      <td>0.292581</td>\n",
       "      <td>0.155754</td>\n",
       "    </tr>\n",
       "    <tr>\n",
       "      <th>3 Yr</th>\n",
       "      <td>0.886914</td>\n",
       "      <td>0.917541</td>\n",
       "      <td>0.947210</td>\n",
       "      <td>0.986700</td>\n",
       "      <td>1.000000</td>\n",
       "      <td>0.944759</td>\n",
       "      <td>0.822604</td>\n",
       "      <td>0.625782</td>\n",
       "      <td>0.398156</td>\n",
       "      <td>0.261280</td>\n",
       "    </tr>\n",
       "    <tr>\n",
       "      <th>5 Yr</th>\n",
       "      <td>0.739279</td>\n",
       "      <td>0.772179</td>\n",
       "      <td>0.810104</td>\n",
       "      <td>0.884565</td>\n",
       "      <td>0.944759</td>\n",
       "      <td>1.000000</td>\n",
       "      <td>0.961409</td>\n",
       "      <td>0.833804</td>\n",
       "      <td>0.646877</td>\n",
       "      <td>0.528497</td>\n",
       "    </tr>\n",
       "    <tr>\n",
       "      <th>7 Yr</th>\n",
       "      <td>0.573964</td>\n",
       "      <td>0.604841</td>\n",
       "      <td>0.643803</td>\n",
       "      <td>0.734420</td>\n",
       "      <td>0.822604</td>\n",
       "      <td>0.961409</td>\n",
       "      <td>1.000000</td>\n",
       "      <td>0.950814</td>\n",
       "      <td>0.823193</td>\n",
       "      <td>0.732256</td>\n",
       "    </tr>\n",
       "    <tr>\n",
       "      <th>10 Yr</th>\n",
       "      <td>0.372704</td>\n",
       "      <td>0.396808</td>\n",
       "      <td>0.430585</td>\n",
       "      <td>0.523103</td>\n",
       "      <td>0.625782</td>\n",
       "      <td>0.833804</td>\n",
       "      <td>0.950814</td>\n",
       "      <td>1.000000</td>\n",
       "      <td>0.954687</td>\n",
       "      <td>0.904602</td>\n",
       "    </tr>\n",
       "    <tr>\n",
       "      <th>20 Yr</th>\n",
       "      <td>0.159608</td>\n",
       "      <td>0.180160</td>\n",
       "      <td>0.207295</td>\n",
       "      <td>0.292581</td>\n",
       "      <td>0.398156</td>\n",
       "      <td>0.646877</td>\n",
       "      <td>0.823193</td>\n",
       "      <td>0.954687</td>\n",
       "      <td>1.000000</td>\n",
       "      <td>0.980049</td>\n",
       "    </tr>\n",
       "    <tr>\n",
       "      <th>30 Yr</th>\n",
       "      <td>0.041155</td>\n",
       "      <td>0.054328</td>\n",
       "      <td>0.075824</td>\n",
       "      <td>0.155754</td>\n",
       "      <td>0.261280</td>\n",
       "      <td>0.528497</td>\n",
       "      <td>0.732256</td>\n",
       "      <td>0.904602</td>\n",
       "      <td>0.980049</td>\n",
       "      <td>1.000000</td>\n",
       "    </tr>\n",
       "  </tbody>\n",
       "</table>\n",
       "</div>"
      ],
      "text/plain": [
       "           3 Mo      6 Mo      1 Yr      2 Yr      3 Yr      5 Yr      7 Yr  \\\n",
       "3 Mo   1.000000  0.994131  0.978702  0.937747  0.886914  0.739279  0.573964   \n",
       "6 Mo   0.994131  1.000000  0.993947  0.963417  0.917541  0.772179  0.604841   \n",
       "1 Yr   0.978702  0.993947  1.000000  0.984645  0.947210  0.810104  0.643803   \n",
       "2 Yr   0.937747  0.963417  0.984645  1.000000  0.986700  0.884565  0.734420   \n",
       "3 Yr   0.886914  0.917541  0.947210  0.986700  1.000000  0.944759  0.822604   \n",
       "5 Yr   0.739279  0.772179  0.810104  0.884565  0.944759  1.000000  0.961409   \n",
       "7 Yr   0.573964  0.604841  0.643803  0.734420  0.822604  0.961409  1.000000   \n",
       "10 Yr  0.372704  0.396808  0.430585  0.523103  0.625782  0.833804  0.950814   \n",
       "20 Yr  0.159608  0.180160  0.207295  0.292581  0.398156  0.646877  0.823193   \n",
       "30 Yr  0.041155  0.054328  0.075824  0.155754  0.261280  0.528497  0.732256   \n",
       "\n",
       "          10 Yr     20 Yr     30 Yr  \n",
       "3 Mo   0.372704  0.159608  0.041155  \n",
       "6 Mo   0.396808  0.180160  0.054328  \n",
       "1 Yr   0.430585  0.207295  0.075824  \n",
       "2 Yr   0.523103  0.292581  0.155754  \n",
       "3 Yr   0.625782  0.398156  0.261280  \n",
       "5 Yr   0.833804  0.646877  0.528497  \n",
       "7 Yr   0.950814  0.823193  0.732256  \n",
       "10 Yr  1.000000  0.954687  0.904602  \n",
       "20 Yr  0.954687  1.000000  0.980049  \n",
       "30 Yr  0.904602  0.980049  1.000000  "
      ]
     },
     "execution_count": 73,
     "metadata": {},
     "output_type": "execute_result"
    }
   ],
   "source": [
    "yield_df.corr() \n",
    "### Note que la correlación es mayor cuando el vencimiento de los títulos es similar."
   ]
  },
  {
   "cell_type": "code",
   "execution_count": 74,
   "metadata": {},
   "outputs": [
    {
     "data": {
      "text/plain": [
       "3 Mo     0.633739\n",
       "6 Mo     0.727528\n",
       "1 Yr     0.822801\n",
       "2 Yr     1.017872\n",
       "3 Yr     1.212196\n",
       "5 Yr     1.605953\n",
       "7 Yr     1.951605\n",
       "10 Yr    2.255661\n",
       "20 Yr    2.756839\n",
       "30 Yr    2.969868\n",
       "dtype: float64"
      ]
     },
     "execution_count": 74,
     "metadata": {},
     "output_type": "execute_result"
    }
   ],
   "source": [
    "yield_df.mean()"
   ]
  },
  {
   "cell_type": "markdown",
   "metadata": {},
   "source": [
    "Se puede notar que efectivamente hay cierta prima termino en promedio a lo largo del tiempo."
   ]
  },
  {
   "cell_type": "code",
   "execution_count": 75,
   "metadata": {},
   "outputs": [
    {
     "data": {
      "text/plain": [
       "3 Mo     0.023684\n",
       "6 Mo     0.022396\n",
       "1 Yr     0.026216\n",
       "2 Yr     0.036711\n",
       "3 Yr     0.042277\n",
       "5 Yr     0.049538\n",
       "7 Yr     0.052625\n",
       "10 Yr    0.051712\n",
       "20 Yr    0.052232\n",
       "30 Yr    0.051584\n",
       "dtype: float64"
      ]
     },
     "execution_count": 75,
     "metadata": {},
     "output_type": "execute_result"
    }
   ],
   "source": [
    "yield_df.diff().std()"
   ]
  },
  {
   "cell_type": "markdown",
   "metadata": {},
   "source": [
    "Se muestra que a mayor plazo mayor desviación estándar."
   ]
  },
  {
   "cell_type": "code",
   "execution_count": 76,
   "metadata": {},
   "outputs": [],
   "source": [
    "\n",
    "from sklearn.decomposition import PCA\n",
    "from sklearn.preprocessing import scale, StandardScaler\n",
    "#Step1: We calculate the mean of the scaled data.\n",
    "df_normalized_mean = pd.DataFrame(scale(yield_df))\n",
    "#Step2: Remove any missing data points\n",
    "df_normalized_mean.dropna(inplace=True)"
   ]
  },
  {
   "cell_type": "code",
   "execution_count": 77,
   "metadata": {},
   "outputs": [
    {
     "data": {
      "text/plain": [
       "Text(0.5, 1.0, 'Scree Plot')"
      ]
     },
     "execution_count": 77,
     "metadata": {},
     "output_type": "execute_result"
    },
    {
     "data": {
      "image/png": "[encoded data removed]",
      "text/plain": [
       "<Figure size 640x480 with 1 Axes>"
      ]
     },
     "metadata": {},
     "output_type": "display_data"
    }
   ],
   "source": [
    "\n",
    "instruments = yield_df.columns\n",
    "#Step3: We calculate the PCA using fit_transform\n",
    "components = ['Level', 'Slope', 'Curve']\n",
    "pca = PCA(n_components=len(components))\n",
    "\n",
    "YC_PCA = pca.fit_transform(df_normalized_mean)\n",
    "#Step4: Create a SCREE plot to check the weights of each component\n",
    "per_var = np.round(pca.explained_variance_ratio_ * 100, decimals=1)\n",
    "labels = ['PC' + str(x) for x in range(1, len(per_var)+1)]\n",
    "plt.bar(x=range(1, len(per_var)+1), height=per_var, tick_label=labels)\n",
    "plt.ylabel('Percentage of Explained Variance')\n",
    "plt.xlabel('Principal Component')\n",
    "plt.title('Scree Plot')\n"
   ]
  },
  {
   "cell_type": "code",
   "execution_count": 78,
   "metadata": {},
   "outputs": [
    {
     "data": {
      "text/plain": [
       "array([7.09539945, 2.66649767, 0.20288977])"
      ]
     },
     "execution_count": 78,
     "metadata": {},
     "output_type": "execute_result"
    }
   ],
   "source": [
    "# Los eigenvalores de la matriz.\n",
    "\n",
    "pca.explained_variance_"
   ]
  },
  {
   "cell_type": "markdown",
   "metadata": {},
   "source": [
    "El 70% de la variación en las tasas se explica por el factor de nivel, el 26.7% por el factor de pendiente, el 2% por el factor de curvatura."
   ]
  },
  {
   "cell_type": "code",
   "execution_count": 79,
   "metadata": {},
   "outputs": [
    {
     "data": {
      "text/plain": [
       "Text(0.5, 1.0, 'Cumulative Explained Variance')"
      ]
     },
     "execution_count": 79,
     "metadata": {},
     "output_type": "execute_result"
    },
    {
     "data": {
      "image/png": "[encoded data removed]",
      "text/plain": [
       "<Figure size 640x480 with 1 Axes>"
      ]
     },
     "metadata": {},
     "output_type": "display_data"
    }
   ],
   "source": [
    "plt.plot(labels, pca.explained_variance_ratio_.cumsum()*100)\n",
    "plt.ylabel('Percentage of Explained Variance')\n",
    "plt.xlabel('Principal Component')\n",
    "plt.title('Cumulative Explained Variance')"
   ]
  },
  {
   "cell_type": "code",
   "execution_count": 80,
   "metadata": {},
   "outputs": [
    {
     "data": {
      "text/html": [
       "<div>\n",
       "<style scoped>\n",
       "    .dataframe tbody tr th:only-of-type {\n",
       "        vertical-align: middle;\n",
       "    }\n",
       "\n",
       "    .dataframe tbody tr th {\n",
       "        vertical-align: top;\n",
       "    }\n",
       "\n",
       "    .dataframe thead th {\n",
       "        text-align: right;\n",
       "    }\n",
       "</style>\n",
       "<table border=\"1\" class=\"dataframe\">\n",
       "  <thead>\n",
       "    <tr style=\"text-align: right;\">\n",
       "      <th></th>\n",
       "      <th>3 Mo</th>\n",
       "      <th>6 Mo</th>\n",
       "      <th>1 Yr</th>\n",
       "      <th>2 Yr</th>\n",
       "      <th>3 Yr</th>\n",
       "      <th>5 Yr</th>\n",
       "      <th>7 Yr</th>\n",
       "      <th>10 Yr</th>\n",
       "      <th>20 Yr</th>\n",
       "      <th>30 Yr</th>\n",
       "    </tr>\n",
       "  </thead>\n",
       "  <tbody>\n",
       "    <tr>\n",
       "      <th>0</th>\n",
       "      <td>0.315165</td>\n",
       "      <td>0.323955</td>\n",
       "      <td>0.332578</td>\n",
       "      <td>0.348506</td>\n",
       "      <td>0.360440</td>\n",
       "      <td>0.366666</td>\n",
       "      <td>0.346327</td>\n",
       "      <td>0.299477</td>\n",
       "      <td>0.232439</td>\n",
       "      <td>0.188790</td>\n",
       "    </tr>\n",
       "    <tr>\n",
       "      <th>1</th>\n",
       "      <td>-0.301796</td>\n",
       "      <td>-0.294470</td>\n",
       "      <td>-0.278497</td>\n",
       "      <td>-0.220085</td>\n",
       "      <td>-0.143287</td>\n",
       "      <td>0.052195</td>\n",
       "      <td>0.215065</td>\n",
       "      <td>0.368222</td>\n",
       "      <td>0.473333</td>\n",
       "      <td>0.516786</td>\n",
       "    </tr>\n",
       "    <tr>\n",
       "      <th>2</th>\n",
       "      <td>0.472584</td>\n",
       "      <td>0.341726</td>\n",
       "      <td>0.164091</td>\n",
       "      <td>-0.131361</td>\n",
       "      <td>-0.326244</td>\n",
       "      <td>-0.430281</td>\n",
       "      <td>-0.330774</td>\n",
       "      <td>-0.034096</td>\n",
       "      <td>0.251852</td>\n",
       "      <td>0.387461</td>\n",
       "    </tr>\n",
       "  </tbody>\n",
       "</table>\n",
       "</div>"
      ],
      "text/plain": [
       "       3 Mo      6 Mo      1 Yr      2 Yr      3 Yr      5 Yr      7 Yr  \\\n",
       "0  0.315165  0.323955  0.332578  0.348506  0.360440  0.366666  0.346327   \n",
       "1 -0.301796 -0.294470 -0.278497 -0.220085 -0.143287  0.052195  0.215065   \n",
       "2  0.472584  0.341726  0.164091 -0.131361 -0.326244 -0.430281 -0.330774   \n",
       "\n",
       "      10 Yr     20 Yr     30 Yr  \n",
       "0  0.299477  0.232439  0.188790  \n",
       "1  0.368222  0.473333  0.516786  \n",
       "2 -0.034096  0.251852  0.387461  "
      ]
     },
     "execution_count": 80,
     "metadata": {},
     "output_type": "execute_result"
    }
   ],
   "source": [
    "# \n",
    "PC1, PC2, PC3 = pca.components_[0],pca.components_[1],pca.components_[2]\n",
    "NumComponents = 3\n",
    "\n",
    "topPorfolios = pd.DataFrame(pca.components_[:NumComponents],columns=instruments)\n",
    "topPorfolios"
   ]
  },
  {
   "cell_type": "code",
   "execution_count": 81,
   "metadata": {},
   "outputs": [
    {
     "data": {
      "text/plain": [
       "(0.0, 0.14)"
      ]
     },
     "execution_count": 81,
     "metadata": {},
     "output_type": "execute_result"
    },
    {
     "data": {
      "image/png": "[encoded data removed]",
      "text/plain": [
       "<Figure size 1400x1000 with 3 Axes>"
      ]
     },
     "metadata": {},
     "output_type": "display_data"
    }
   ],
   "source": [
    "\n",
    "eigenPortfolios = topPorfolios.div(topPorfolios.sum(1),axis=0)\n",
    "#eigenPortfolios.index = [ f'Portfolio {i}' for i in range(NumComponents)]\n",
    "eigenPortfolios.index = ['Level', 'Slope', 'Curvature']\n",
    "axs = eigenPortfolios.T.plot.bar(subplots=True,figsize=(14,10),legend=False)\n",
    "plt.subplots_adjust(hspace=0.25)\n",
    "axs[0].set_ylim(0,.14)"
   ]
  },
  {
   "cell_type": "code",
   "execution_count": 86,
   "metadata": {},
   "outputs": [
    {
     "data": {
      "text/plain": [
       "DatetimeIndex(['2010-01-04', '2010-01-05', '2010-01-06', '2010-01-07',\n",
       "               '2010-01-08', '2010-01-11', '2010-01-12', '2010-01-13',\n",
       "               '2010-01-14', '2010-01-15',\n",
       "               ...\n",
       "               '2022-12-16', '2022-12-19', '2022-12-20', '2022-12-21',\n",
       "               '2022-12-22', '2022-12-23', '2022-12-27', '2022-12-28',\n",
       "               '2022-12-29', '2022-12-30'],\n",
       "              dtype='datetime64[ns]', name='Date', length=3253, freq=None)"
      ]
     },
     "execution_count": 86,
     "metadata": {},
     "output_type": "execute_result"
    }
   ],
   "source": [
    "yield_df.index"
   ]
  },
  {
   "cell_type": "code",
   "execution_count": 88,
   "metadata": {},
   "outputs": [
    {
     "ename": "ValueError",
     "evalue": "Shape of passed values is (3252, 3), indices imply (3253, 3)",
     "output_type": "error",
     "traceback": [
      "\u001b[1;31m---------------------------------------------------------------------------\u001b[0m",
      "\u001b[1;31mValueError\u001b[0m                                Traceback (most recent call last)",
      "Cell \u001b[1;32mIn[88], line 2\u001b[0m\n\u001b[0;32m      1\u001b[0m \u001b[38;5;66;03m# En el lenguaje de Data Science a estos Factores se les conoce como 'Scores' o PC Scores\u001b[39;00m\n\u001b[1;32m----> 2\u001b[0m orthogonal_factor \u001b[38;5;241m=\u001b[39m \u001b[43mpd\u001b[49m\u001b[38;5;241;43m.\u001b[39;49m\u001b[43mDataFrame\u001b[49m\u001b[43m(\u001b[49m\u001b[43mYC_PCA\u001b[49m\u001b[43m,\u001b[49m\u001b[43m \u001b[49m\u001b[43mindex\u001b[49m\u001b[43m \u001b[49m\u001b[38;5;241;43m=\u001b[39;49m\u001b[43m \u001b[49m\u001b[43myield_df\u001b[49m\u001b[38;5;241;43m.\u001b[39;49m\u001b[43mindex\u001b[49m\u001b[43m,\u001b[49m\u001b[43m \u001b[49m\u001b[43mcolumns\u001b[49m\u001b[43m \u001b[49m\u001b[38;5;241;43m=\u001b[39;49m\u001b[43m \u001b[49m\u001b[43mcomponents\u001b[49m\u001b[43m)\u001b[49m\n\u001b[0;32m      3\u001b[0m orthogonal_factor \n",
      "File \u001b[1;32mc:\\Users\\juanj\\AppData\\Local\\Programs\\Python\\Python311\\Lib\\site-packages\\pandas\\core\\frame.py:827\u001b[0m, in \u001b[0;36mDataFrame.__init__\u001b[1;34m(self, data, index, columns, dtype, copy)\u001b[0m\n\u001b[0;32m    816\u001b[0m         mgr \u001b[38;5;241m=\u001b[39m dict_to_mgr(\n\u001b[0;32m    817\u001b[0m             \u001b[38;5;66;03m# error: Item \"ndarray\" of \"Union[ndarray, Series, Index]\" has no\u001b[39;00m\n\u001b[0;32m    818\u001b[0m             \u001b[38;5;66;03m# attribute \"name\"\u001b[39;00m\n\u001b[1;32m   (...)\u001b[0m\n\u001b[0;32m    824\u001b[0m             copy\u001b[38;5;241m=\u001b[39m_copy,\n\u001b[0;32m    825\u001b[0m         )\n\u001b[0;32m    826\u001b[0m     \u001b[38;5;28;01melse\u001b[39;00m:\n\u001b[1;32m--> 827\u001b[0m         mgr \u001b[38;5;241m=\u001b[39m \u001b[43mndarray_to_mgr\u001b[49m\u001b[43m(\u001b[49m\n\u001b[0;32m    828\u001b[0m \u001b[43m            \u001b[49m\u001b[43mdata\u001b[49m\u001b[43m,\u001b[49m\n\u001b[0;32m    829\u001b[0m \u001b[43m            \u001b[49m\u001b[43mindex\u001b[49m\u001b[43m,\u001b[49m\n\u001b[0;32m    830\u001b[0m \u001b[43m            \u001b[49m\u001b[43mcolumns\u001b[49m\u001b[43m,\u001b[49m\n\u001b[0;32m    831\u001b[0m \u001b[43m            \u001b[49m\u001b[43mdtype\u001b[49m\u001b[38;5;241;43m=\u001b[39;49m\u001b[43mdtype\u001b[49m\u001b[43m,\u001b[49m\n\u001b[0;32m    832\u001b[0m \u001b[43m            \u001b[49m\u001b[43mcopy\u001b[49m\u001b[38;5;241;43m=\u001b[39;49m\u001b[43mcopy\u001b[49m\u001b[43m,\u001b[49m\n\u001b[0;32m    833\u001b[0m \u001b[43m            \u001b[49m\u001b[43mtyp\u001b[49m\u001b[38;5;241;43m=\u001b[39;49m\u001b[43mmanager\u001b[49m\u001b[43m,\u001b[49m\n\u001b[0;32m    834\u001b[0m \u001b[43m        \u001b[49m\u001b[43m)\u001b[49m\n\u001b[0;32m    836\u001b[0m \u001b[38;5;66;03m# For data is list-like, or Iterable (will consume into list)\u001b[39;00m\n\u001b[0;32m    837\u001b[0m \u001b[38;5;28;01melif\u001b[39;00m is_list_like(data):\n",
      "File \u001b[1;32mc:\\Users\\juanj\\AppData\\Local\\Programs\\Python\\Python311\\Lib\\site-packages\\pandas\\core\\internals\\construction.py:336\u001b[0m, in \u001b[0;36mndarray_to_mgr\u001b[1;34m(values, index, columns, dtype, copy, typ)\u001b[0m\n\u001b[0;32m    331\u001b[0m \u001b[38;5;66;03m# _prep_ndarraylike ensures that values.ndim == 2 at this point\u001b[39;00m\n\u001b[0;32m    332\u001b[0m index, columns \u001b[38;5;241m=\u001b[39m _get_axes(\n\u001b[0;32m    333\u001b[0m     values\u001b[38;5;241m.\u001b[39mshape[\u001b[38;5;241m0\u001b[39m], values\u001b[38;5;241m.\u001b[39mshape[\u001b[38;5;241m1\u001b[39m], index\u001b[38;5;241m=\u001b[39mindex, columns\u001b[38;5;241m=\u001b[39mcolumns\n\u001b[0;32m    334\u001b[0m )\n\u001b[1;32m--> 336\u001b[0m \u001b[43m_check_values_indices_shape_match\u001b[49m\u001b[43m(\u001b[49m\u001b[43mvalues\u001b[49m\u001b[43m,\u001b[49m\u001b[43m \u001b[49m\u001b[43mindex\u001b[49m\u001b[43m,\u001b[49m\u001b[43m \u001b[49m\u001b[43mcolumns\u001b[49m\u001b[43m)\u001b[49m\n\u001b[0;32m    338\u001b[0m \u001b[38;5;28;01mif\u001b[39;00m typ \u001b[38;5;241m==\u001b[39m \u001b[38;5;124m\"\u001b[39m\u001b[38;5;124marray\u001b[39m\u001b[38;5;124m\"\u001b[39m:\n\u001b[0;32m    339\u001b[0m     \u001b[38;5;28;01mif\u001b[39;00m \u001b[38;5;28missubclass\u001b[39m(values\u001b[38;5;241m.\u001b[39mdtype\u001b[38;5;241m.\u001b[39mtype, \u001b[38;5;28mstr\u001b[39m):\n",
      "File \u001b[1;32mc:\\Users\\juanj\\AppData\\Local\\Programs\\Python\\Python311\\Lib\\site-packages\\pandas\\core\\internals\\construction.py:420\u001b[0m, in \u001b[0;36m_check_values_indices_shape_match\u001b[1;34m(values, index, columns)\u001b[0m\n\u001b[0;32m    418\u001b[0m passed \u001b[38;5;241m=\u001b[39m values\u001b[38;5;241m.\u001b[39mshape\n\u001b[0;32m    419\u001b[0m implied \u001b[38;5;241m=\u001b[39m (\u001b[38;5;28mlen\u001b[39m(index), \u001b[38;5;28mlen\u001b[39m(columns))\n\u001b[1;32m--> 420\u001b[0m \u001b[38;5;28;01mraise\u001b[39;00m \u001b[38;5;167;01mValueError\u001b[39;00m(\u001b[38;5;124mf\u001b[39m\u001b[38;5;124m\"\u001b[39m\u001b[38;5;124mShape of passed values is \u001b[39m\u001b[38;5;132;01m{\u001b[39;00mpassed\u001b[38;5;132;01m}\u001b[39;00m\u001b[38;5;124m, indices imply \u001b[39m\u001b[38;5;132;01m{\u001b[39;00mimplied\u001b[38;5;132;01m}\u001b[39;00m\u001b[38;5;124m\"\u001b[39m)\n",
      "\u001b[1;31mValueError\u001b[0m: Shape of passed values is (3252, 3), indices imply (3253, 3)"
     ]
    }
   ],
   "source": [
    "# En el lenguaje de Data Science a estos Factores se les conoce como 'Scores' o PC Scores\n",
    "orthogonal_factor = pd.DataFrame(YC_PCA, index = yield_df.index, columns = components)\n",
    "orthogonal_factor \n"
   ]
  },
  {
   "cell_type": "code",
   "execution_count": null,
   "metadata": {},
   "outputs": [],
   "source": [
    "orthogonal_factor = orthogonal_factor.sort_index()\n",
    "orthogonal_factor['Level'].plot()"
   ]
  },
  {
   "cell_type": "code",
   "execution_count": null,
   "metadata": {},
   "outputs": [],
   "source": [
    "orthogonal_factor['Slope'].plot()"
   ]
  },
  {
   "cell_type": "code",
   "execution_count": null,
   "metadata": {},
   "outputs": [],
   "source": [
    "orthogonal_factor['Curve'].plot()"
   ]
  },
  {
   "cell_type": "markdown",
   "metadata": {},
   "source": [
    "### Referencias \n",
    "\n",
    "EDHEC-Risk Institute (2019). Chapter 1.2 – Technical Supplement: Scientific. Lectures Notes for Advances in Asset Allocation Seminar 2020.\n",
    "\n",
    "EDHEC-Risk Institute (2019). Chapter 1.3 – Technical Supplement: Scientific. Lectures Notes for Advances in Asset Allocation Seminar 2020."
   ]
  }
 ],
 "metadata": {
  "kernelspec": {
   "display_name": "Python 3",
   "language": "python",
   "name": "python3"
  },
  "language_info": {
   "codemirror_mode": {
    "name": "ipython",
    "version": 3
   },
   "file_extension": ".py",
   "mimetype": "text/x-python",
   "name": "python",
   "nbconvert_exporter": "python",
   "pygments_lexer": "ipython3",
   "version": "3.11.9"
  }
 },
 "nbformat": 4,
 "nbformat_minor": 2
}
