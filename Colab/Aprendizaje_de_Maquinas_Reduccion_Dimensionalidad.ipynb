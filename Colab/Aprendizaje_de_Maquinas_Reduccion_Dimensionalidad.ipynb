{
 "cells": [
  {
   "cell_type": "markdown",
   "metadata": {},
   "source": [
    "## Lección 2. Introducción al aprendizaje de máquina Reducción de la dimensionalidad \n",
    "\n",
    "### Modelos de aprendizaje de máquinas Reducción de la dimensionalidad.\n",
    "\n",
    "##### Abrir en Colab\n",
    "\n",
    "<a target=\"_blank\" href=\"https://colab.research.google.com/github/RepoDF/CEFA2025/blob/main/Colab/Lecci%C3%B3n%201%20Introducci%C3%B3n%20al%20Aprendizaje%20de%20M%C3%A1quinas%20Reducci%C3%B3n%20de%20la%20dimensionalidad.ipynb\">\n",
    "  <img src=\"https://colab.research.google.com/assets/colab-badge.svg\" alt=\"Open In Colab\"/>\n",
    "</a>\n"
   ]
  },
  {
   "cell_type": "markdown",
   "metadata": {},
   "source": [
    "### Objetivos Notebook Introducción al Aprendizaje de Máquinas Reducción de la dimensionalidad: \n",
    "\n",
    "1. Introducir modelos de Reducción de la dimensionalidad aplicada a la gestión de portafolios de portafolios. "
   ]
  },
  {
   "cell_type": "markdown",
   "metadata": {},
   "source": [
    "### Ejemplo Factores de riesgo estadísticos\n",
    "\n",
    "Utilizando los siguientes datos. Encuentre los componentes principales usando los valores propios de la matriz y el método de descomposición de valores singulares y el de Minimum Linear Torsion.\n",
    "\n",
    "| Nombre       | Descripción                                                                                        |\n",
    "| ------------ | -------------------------------------------------------------------------------------------------- |\n",
    "| Cash         | Índice de ICE Tresury Notes & Bills con vencimiento 0-3 meses                                      |\n",
    "| TIPS         | Bonos del Tesoro de EE. UU. indexados a la inflación (TIPS), 1-5 años​                             |\n",
    "| Corporativos | Bonos Corporativos con calificación crediticia AAA-A, 1-5 años​                                    |\n",
    "| Emergentes   | Índice de ICE de Bonos Corporativos de Mercados Emergentes.                                        |\n",
    "| MBS          | Índice de ICE de títulos respaldados por hipotecas emitidas por Agencias de EE. UU. (Agency MBS)​. |\n",
    "| Equity       | Índice de retorno total del S&P500                                                                 |"
   ]
  },
  {
   "cell_type": "markdown",
   "metadata": {},
   "source": [
    "Nota: Para correr este notebook en colab, es nesesario crear una carpeta llamada **datos** y dentro de ella los archivos **\"Índices.csv\"** y **Yields_2010-2023.csv**. Puede descargarlo del repositorio de GitHub [CEFA 2025 - Repositorio](https://github.com/RepoDF/CEFA2025) o desde el siguiente Drive [CEFA 2025 Datos Notebooks](https://drive.google.com/drive/folders/1JY-Dy7kaSLINKBK4HDOV6fyLKa7R_1Zm?usp=drive_link).\n"
   ]
  },
  {
   "cell_type": "code",
   "execution_count": 30,
   "metadata": {},
   "outputs": [
    {
     "name": "stdout",
     "output_type": "stream",
     "text": [
      "Requirement already satisfied: scipy in c:\\users\\jcamargo\\cefa_2025_env\\lib\\site-packages (1.11.4)Note: you may need to restart the kernel to use updated packages.\n",
      "\n",
      "Requirement already satisfied: matplotlib in c:\\users\\jcamargo\\cefa_2025_env\\lib\\site-packages (3.8.2)\n",
      "Requirement already satisfied: pandas in c:\\users\\jcamargo\\cefa_2025_env\\lib\\site-packages (2.2.3)\n",
      "Requirement already satisfied: numpy in c:\\users\\jcamargo\\cefa_2025_env\\lib\\site-packages (1.26.4)\n",
      "Requirement already satisfied: scikit-learn in c:\\users\\jcamargo\\cefa_2025_env\\lib\\site-packages (1.6.1)\n",
      "Requirement already satisfied: pyparsing>=2.3.1 in c:\\users\\jcamargo\\cefa_2025_env\\lib\\site-packages (from matplotlib) (3.2.1)\n",
      "Requirement already satisfied: pillow>=8 in c:\\users\\jcamargo\\cefa_2025_env\\lib\\site-packages (from matplotlib) (11.1.0)\n",
      "Requirement already satisfied: python-dateutil>=2.7 in c:\\users\\jcamargo\\cefa_2025_env\\lib\\site-packages (from matplotlib) (2.9.0.post0)\n",
      "Requirement already satisfied: importlib-resources>=3.2.0 in c:\\users\\jcamargo\\cefa_2025_env\\lib\\site-packages (from matplotlib) (6.5.2)\n",
      "Requirement already satisfied: fonttools>=4.22.0 in c:\\users\\jcamargo\\cefa_2025_env\\lib\\site-packages (from matplotlib) (4.56.0)\n",
      "Requirement already satisfied: kiwisolver>=1.3.1 in c:\\users\\jcamargo\\cefa_2025_env\\lib\\site-packages (from matplotlib) (1.4.7)\n",
      "Requirement already satisfied: cycler>=0.10 in c:\\users\\jcamargo\\cefa_2025_env\\lib\\site-packages (from matplotlib) (0.12.1)\n",
      "Requirement already satisfied: packaging>=20.0 in c:\\users\\jcamargo\\cefa_2025_env\\lib\\site-packages (from matplotlib) (24.2)\n",
      "Requirement already satisfied: contourpy>=1.0.1 in c:\\users\\jcamargo\\cefa_2025_env\\lib\\site-packages (from matplotlib) (1.3.0)\n",
      "Requirement already satisfied: zipp>=3.1.0 in c:\\users\\jcamargo\\cefa_2025_env\\lib\\site-packages (from importlib-resources>=3.2.0->matplotlib) (3.21.0)\n",
      "Requirement already satisfied: six>=1.5 in c:\\users\\jcamargo\\cefa_2025_env\\lib\\site-packages (from python-dateutil>=2.7->matplotlib) (1.17.0)\n",
      "Requirement already satisfied: tzdata>=2022.7 in c:\\users\\jcamargo\\cefa_2025_env\\lib\\site-packages (from pandas) (2025.1)\n",
      "Requirement already satisfied: pytz>=2020.1 in c:\\users\\jcamargo\\cefa_2025_env\\lib\\site-packages (from pandas) (2025.1)\n",
      "Requirement already satisfied: threadpoolctl>=3.1.0 in c:\\users\\jcamargo\\cefa_2025_env\\lib\\site-packages (from scikit-learn) (3.5.0)\n",
      "Requirement already satisfied: joblib>=1.2.0 in c:\\users\\jcamargo\\cefa_2025_env\\lib\\site-packages (from scikit-learn) (1.4.2)\n"
     ]
    },
    {
     "name": "stderr",
     "output_type": "stream",
     "text": [
      "WARNING: You are using pip version 21.1.1; however, version 25.0.1 is available.\n",
      "You should consider upgrading via the 'c:\\Users\\jcamargo\\CEFA_2025_env\\Scripts\\python.exe -m pip install --upgrade pip' command.\n"
     ]
    }
   ],
   "source": [
    "# Instalar las librerías en el entorno de ejecución\n",
    "%pip install scipy matplotlib pandas numpy scikit-learn"
   ]
  },
  {
   "cell_type": "code",
   "execution_count": 31,
   "metadata": {},
   "outputs": [],
   "source": [
    "# Cargar los datos del S&P 500.\n",
    "import os\n",
    "import pandas as pd\n",
    "import numpy as np\n",
    "import matplotlib.pyplot as plt\n",
    "\n",
    "from numpy import linalg \n",
    "from scipy.linalg import sqrtm\n",
    "from sklearn.decomposition import PCA\n"
   ]
  },
  {
   "cell_type": "code",
   "execution_count": 32,
   "metadata": {},
   "outputs": [],
   "source": [
    "\n",
    "path = os.path.dirname(os.getcwd())\n",
    "\n",
    "if path == '/': # Si estamos en la raíz del sistema, entonces no es necesario agregar la carpeta datos. (Aplica en Google Colab)\n",
    "    file_path = os.path.join('datos', 'Índices.csv')\n",
    "else:\n",
    "    file_path = os.path.join(path,'datos', 'Índices.csv')\n",
    "    \n",
    "    \n",
    "indices = pd.read_csv(file_path, sep=';', index_col=0, parse_dates=True)"
   ]
  },
  {
   "cell_type": "code",
   "execution_count": 33,
   "metadata": {},
   "outputs": [],
   "source": [
    "def calculateLogReturns(df): \n",
    "    return np.log((df.shift(-1)/df).shift(1))"
   ]
  },
  {
   "cell_type": "code",
   "execution_count": 34,
   "metadata": {},
   "outputs": [],
   "source": [
    "\n",
    "\n",
    "\n",
    "def torsion(Sigma, Returns, model, method='exact', max_niter=10000, npcomp = 6):\n",
    "    n = Sigma.shape[0]    \n",
    "    \n",
    "    if model == 'PCA':\n",
    "        eigval, eigvec = linalg.eig(Sigma)\n",
    "        idx = np.argsort(-eigval) \n",
    "        t = eigvec[:,idx]\n",
    "\n",
    "    elif model == 'PCA-SVD':\n",
    "        \n",
    "        \n",
    "        pca = PCA(n_components=npcomp)\n",
    "        X = pca.fit_transform(Returns)\n",
    "        \n",
    "        eigval, eigvec = pca.explained_variance_, pca.components_ \n",
    "        t = eigvec\n",
    "        \n",
    "        \n",
    "    elif model == 'minimum-torsion':\n",
    "        # C: correlation matrix\n",
    "        sigma = np.sqrt(np.diag(Sigma))\n",
    "        C = np.asmatrix(np.diag(1.0/sigma)) * np.asmatrix(Sigma) * np.asmatrix(np.diag(1.0/sigma))\n",
    "        # Riccati root of correlation matrix\n",
    "        c = sqrtm(C)\n",
    "        if method == 'approximate':\n",
    "            t = (np.asmatrix(sigma) / np.asmatrix(c)) * np.asmatrix(np.diag(1.0/sigma))\n",
    "        elif method == 'exact':\n",
    "            # initialize\n",
    "            d = np.ones((n))\n",
    "            f = np.zeros((max_niter))\n",
    "            # iterating\n",
    "            for i in range(max_niter):\n",
    "                U = np.asmatrix(np.diag(d)) * c * c * np.asmatrix(np.diag(d))\n",
    "                u = sqrtm(U)\n",
    "                q = linalg.inv(u) * np.asmatrix(np.diag(d)) * c\n",
    "                d = np.diag(q * c)\n",
    "                pi = np.asmatrix(np.diag(d)) * q\n",
    "                f[i] = linalg.norm(c - pi, 'fro')\n",
    "                # if converge\n",
    "                if i > 0 and abs(f[i]-f[i-1])/f[i] <= 1e-4:\n",
    "                    f = f[0:i]\n",
    "                    break\n",
    "                elif i == max_niter and abs(f[max_niter]-f[max_niter-1])/f[max_niter] >= 1e-4:\n",
    "                    print('number of max iterations reached: n_iter = ' + str(max_niter))\n",
    "            x = pi * linalg.inv(np.asmatrix(c))\n",
    "            t = np.asmatrix(np.diag(sigma)) * x * np.asmatrix(np.diag(1.0/sigma))\n",
    "    return t"
   ]
  },
  {
   "cell_type": "code",
   "execution_count": 35,
   "metadata": {},
   "outputs": [],
   "source": [
    "df_returns = calculateLogReturns(indices)\n",
    "df_returns = df_returns.dropna() \n",
    "covariance_matrix = df_returns.cov()\n",
    "minimum_torsion_matrix = torsion(covariance_matrix, df_returns, \"minimum-torsion\", method='exact', max_niter=100000)"
   ]
  },
  {
   "cell_type": "code",
   "execution_count": 36,
   "metadata": {},
   "outputs": [],
   "source": [
    "# Aquí normalizamos los retornos antes de aplicarles el método de PCA.\n",
    "df_returns = (df_returns - df_returns.mean())/len(df_returns) "
   ]
  },
  {
   "cell_type": "code",
   "execution_count": 37,
   "metadata": {},
   "outputs": [],
   "source": [
    "pca_matrix1_m1 = torsion(covariance_matrix, df_returns ,\"PCA\", method='exact', max_niter=10000, npcomp = 6)\n",
    "pca_matrix1_m2 = torsion(covariance_matrix, df_returns ,\"PCA-SVD\", method='exact', max_niter=10000, npcomp = 6)"
   ]
  },
  {
   "cell_type": "code",
   "execution_count": 38,
   "metadata": {},
   "outputs": [
    {
     "data": {
      "application/vnd.microsoft.datawrangler.viewer.v0+json": {
       "columns": [
        {
         "name": "index",
         "rawType": "object",
         "type": "string"
        },
        {
         "name": "Cash",
         "rawType": "float64",
         "type": "float"
        },
        {
         "name": "Tips",
         "rawType": "float64",
         "type": "float"
        },
        {
         "name": "Corporativos",
         "rawType": "float64",
         "type": "float"
        },
        {
         "name": "MBS",
         "rawType": "float64",
         "type": "float"
        },
        {
         "name": "Equity",
         "rawType": "float64",
         "type": "float"
        },
        {
         "name": "Emergentes",
         "rawType": "float64",
         "type": "float"
        }
       ],
       "conversionMethod": "pd.DataFrame",
       "ref": "e547e21c-c472-4cba-b35b-c2663a125e1d",
       "rows": [
        [
         "Factor1",
         "1.0004003689858856",
         "-0.0012633147682018801",
         "0.0003396082608175194",
         "0.0006921355029253841",
         "0.00018945254752415256",
         "0.0008944711740690439"
        ],
        [
         "Factor2",
         "-0.10037036297968246",
         "1.1708463919802812",
         "-0.3193672600182729",
         "-0.14330640407640483",
         "-0.0021088820648428007",
         "-0.09365133533456779"
        ],
        [
         "Factor3",
         "0.02103250712402496",
         "-0.2489483600190596",
         "1.33708968064888",
         "-0.25678335101672456",
         "0.011673234047610262",
         "-0.19768428667613175"
        ],
        [
         "Factor4",
         "0.09620960672164013",
         "-0.2507257790789879",
         "-0.5763434682817717",
         "1.2105647683247236",
         "0.002112536553632026",
         "-0.05940003233909065"
        ],
        [
         "Factor5",
         "0.7540399503273878",
         "-0.10564581026203401",
         "0.7501917794182561",
         "0.060488223044319445",
         "1.0119174318941975",
         "-0.4879686740212271"
        ],
        [
         "Factor6",
         "0.11843831345552218",
         "-0.1560795189245771",
         "-0.4226542264858478",
         "-0.05658290415555381",
         "-0.016233938682175948",
         "1.1293183251852021"
        ]
       ],
       "shape": {
        "columns": 6,
        "rows": 6
       }
      },
      "text/html": [
       "<div>\n",
       "<style scoped>\n",
       "    .dataframe tbody tr th:only-of-type {\n",
       "        vertical-align: middle;\n",
       "    }\n",
       "\n",
       "    .dataframe tbody tr th {\n",
       "        vertical-align: top;\n",
       "    }\n",
       "\n",
       "    .dataframe thead th {\n",
       "        text-align: right;\n",
       "    }\n",
       "</style>\n",
       "<table border=\"1\" class=\"dataframe\">\n",
       "  <thead>\n",
       "    <tr style=\"text-align: right;\">\n",
       "      <th></th>\n",
       "      <th>Cash</th>\n",
       "      <th>Tips</th>\n",
       "      <th>Corporativos</th>\n",
       "      <th>MBS</th>\n",
       "      <th>Equity</th>\n",
       "      <th>Emergentes</th>\n",
       "    </tr>\n",
       "  </thead>\n",
       "  <tbody>\n",
       "    <tr>\n",
       "      <th>Factor1</th>\n",
       "      <td>1.000400</td>\n",
       "      <td>-0.001263</td>\n",
       "      <td>0.000340</td>\n",
       "      <td>0.000692</td>\n",
       "      <td>0.000189</td>\n",
       "      <td>0.000894</td>\n",
       "    </tr>\n",
       "    <tr>\n",
       "      <th>Factor2</th>\n",
       "      <td>-0.100370</td>\n",
       "      <td>1.170846</td>\n",
       "      <td>-0.319367</td>\n",
       "      <td>-0.143306</td>\n",
       "      <td>-0.002109</td>\n",
       "      <td>-0.093651</td>\n",
       "    </tr>\n",
       "    <tr>\n",
       "      <th>Factor3</th>\n",
       "      <td>0.021033</td>\n",
       "      <td>-0.248948</td>\n",
       "      <td>1.337090</td>\n",
       "      <td>-0.256783</td>\n",
       "      <td>0.011673</td>\n",
       "      <td>-0.197684</td>\n",
       "    </tr>\n",
       "    <tr>\n",
       "      <th>Factor4</th>\n",
       "      <td>0.096210</td>\n",
       "      <td>-0.250726</td>\n",
       "      <td>-0.576343</td>\n",
       "      <td>1.210565</td>\n",
       "      <td>0.002113</td>\n",
       "      <td>-0.059400</td>\n",
       "    </tr>\n",
       "    <tr>\n",
       "      <th>Factor5</th>\n",
       "      <td>0.754040</td>\n",
       "      <td>-0.105646</td>\n",
       "      <td>0.750192</td>\n",
       "      <td>0.060488</td>\n",
       "      <td>1.011917</td>\n",
       "      <td>-0.487969</td>\n",
       "    </tr>\n",
       "    <tr>\n",
       "      <th>Factor6</th>\n",
       "      <td>0.118438</td>\n",
       "      <td>-0.156080</td>\n",
       "      <td>-0.422654</td>\n",
       "      <td>-0.056583</td>\n",
       "      <td>-0.016234</td>\n",
       "      <td>1.129318</td>\n",
       "    </tr>\n",
       "  </tbody>\n",
       "</table>\n",
       "</div>"
      ],
      "text/plain": [
       "             Cash      Tips  Corporativos       MBS    Equity  Emergentes\n",
       "Factor1  1.000400 -0.001263      0.000340  0.000692  0.000189    0.000894\n",
       "Factor2 -0.100370  1.170846     -0.319367 -0.143306 -0.002109   -0.093651\n",
       "Factor3  0.021033 -0.248948      1.337090 -0.256783  0.011673   -0.197684\n",
       "Factor4  0.096210 -0.250726     -0.576343  1.210565  0.002113   -0.059400\n",
       "Factor5  0.754040 -0.105646      0.750192  0.060488  1.011917   -0.487969\n",
       "Factor6  0.118438 -0.156080     -0.422654 -0.056583 -0.016234    1.129318"
      ]
     },
     "execution_count": 38,
     "metadata": {},
     "output_type": "execute_result"
    }
   ],
   "source": [
    "factor_index = ['Factor'+str(x) for x in range(1, len(df_returns.columns)+1)]\n",
    "factor_loadings_mlt = pd.DataFrame(minimum_torsion_matrix, columns = covariance_matrix.columns, index =factor_index)\n",
    "factor_loadings_mlt"
   ]
  },
  {
   "cell_type": "code",
   "execution_count": 39,
   "metadata": {},
   "outputs": [],
   "source": [
    "factor_loadings_pca_m1 = pd.DataFrame(pca_matrix1_m1, columns = covariance_matrix.columns, index = factor_index)\n",
    "factor_loadings_pca_m2 = pd.DataFrame(pca_matrix1_m2, columns = covariance_matrix.columns, index = factor_index)\n"
   ]
  },
  {
   "cell_type": "markdown",
   "metadata": {},
   "source": [
    "El algoritmo de Minimum Linear Torsion desarrollado por Romain Deguest et Al (2013) es un método para obtener factores estadísticos y poder desarrollar aplicaciones de Risk Budgesting o de optimización por Risk Parity. El método obtiene factores ortogonales que son mas intepretables que el modelo de PCA convencional. "
   ]
  },
  {
   "cell_type": "code",
   "execution_count": 40,
   "metadata": {},
   "outputs": [
    {
     "data": {
      "text/plain": [
       "Text(0.5, 1.0, 'Factores de Carga Método MLT')"
      ]
     },
     "execution_count": 40,
     "metadata": {},
     "output_type": "execute_result"
    },
    {
     "data": {
      "image/png": "[encoded data removed]",
      "text/plain": [
       "<Figure size 640x480 with 1 Axes>"
      ]
     },
     "metadata": {},
     "output_type": "display_data"
    }
   ],
   "source": [
    "ax = factor_loadings_mlt.plot.bar()\n",
    "ax.set_title('Factores de Carga Método MLT')"
   ]
  },
  {
   "cell_type": "code",
   "execution_count": 41,
   "metadata": {},
   "outputs": [
    {
     "data": {
      "text/plain": [
       "Text(0.5, 1.0, 'Factores de Carga Método PCA')"
      ]
     },
     "execution_count": 41,
     "metadata": {},
     "output_type": "execute_result"
    },
    {
     "data": {
      "image/png": "[encoded data removed]",
      "text/plain": [
       "<Figure size 640x480 with 1 Axes>"
      ]
     },
     "metadata": {},
     "output_type": "display_data"
    }
   ],
   "source": [
    "ax = factor_loadings_pca_m1.plot.bar()\n",
    "ax.set_title('Factores de Carga Método PCA')"
   ]
  },
  {
   "cell_type": "code",
   "execution_count": 42,
   "metadata": {},
   "outputs": [
    {
     "data": {
      "text/plain": [
       "Text(0.5, 1.0, 'Factores de Carga Método SVD')"
      ]
     },
     "execution_count": 42,
     "metadata": {},
     "output_type": "execute_result"
    },
    {
     "data": {
      "image/png": "[encoded data removed]",
      "text/plain": [
       "<Figure size 640x480 with 1 Axes>"
      ]
     },
     "metadata": {},
     "output_type": "display_data"
    }
   ],
   "source": [
    "ax = factor_loadings_pca_m2.plot.bar()\n",
    "ax.set_title('Factores de Carga Método SVD')"
   ]
  },
  {
   "cell_type": "markdown",
   "metadata": {},
   "source": [
    "### Ejemplo 3: Obtención de Factores de Nivel, Pendiente y Curva con PCA.\n",
    "\n",
    "Una de las principales aplicaciones de PCA Y de las poco donde guarda interpretabilidad es la de Componentes Principales aplicado a la curva de rendimientos. Al aplicarlo sobre los yields, crea los componentes de nivel, pendiente y curvatura. Antes de examinar la aplicación revisemos un poco algunas características de los datos:"
   ]
  },
  {
   "cell_type": "code",
   "execution_count": 43,
   "metadata": {},
   "outputs": [],
   "source": [
    "import pandas as pd\n",
    "import numpy as np\n",
    "import matplotlib.pyplot as pl\n",
    "\n",
    "#yield_df = get_data(start_year=2010,end_year=2023)\n",
    "#yield_df = yield_df.sort_index()\n",
    "# yield_df.to_csv('Datos\\\\'+'Yields_2010-2023.csv')"
   ]
  },
  {
   "cell_type": "code",
   "execution_count": 44,
   "metadata": {},
   "outputs": [
    {
     "data": {
      "application/vnd.microsoft.datawrangler.viewer.v0+json": {
       "columns": [
        {
         "name": "Date",
         "rawType": "datetime64[ns]",
         "type": "datetime"
        },
        {
         "name": "3 Mo",
         "rawType": "float64",
         "type": "float"
        },
        {
         "name": "6 Mo",
         "rawType": "float64",
         "type": "float"
        },
        {
         "name": "1 Yr",
         "rawType": "float64",
         "type": "float"
        },
        {
         "name": "2 Yr",
         "rawType": "float64",
         "type": "float"
        },
        {
         "name": "3 Yr",
         "rawType": "float64",
         "type": "float"
        },
        {
         "name": "5 Yr",
         "rawType": "float64",
         "type": "float"
        },
        {
         "name": "7 Yr",
         "rawType": "float64",
         "type": "float"
        },
        {
         "name": "10 Yr",
         "rawType": "float64",
         "type": "float"
        },
        {
         "name": "20 Yr",
         "rawType": "float64",
         "type": "float"
        },
        {
         "name": "30 Yr",
         "rawType": "float64",
         "type": "float"
        }
       ],
       "conversionMethod": "pd.DataFrame",
       "ref": "09b45a97-4309-4817-9d90-ba9127f9317b",
       "rows": [
        [
         "2010-01-04 00:00:00",
         "0.08",
         "0.18",
         "0.45",
         "1.09",
         "1.66",
         "2.65",
         "3.36",
         "3.85",
         "4.6",
         "4.65"
        ],
        [
         "2010-01-05 00:00:00",
         "0.07",
         "0.17",
         "0.41",
         "1.01",
         "1.57",
         "2.56",
         "3.28",
         "3.77",
         "4.54",
         "4.59"
        ],
        [
         "2010-01-06 00:00:00",
         "0.06",
         "0.15",
         "0.4",
         "1.01",
         "1.6",
         "2.6",
         "3.33",
         "3.85",
         "4.63",
         "4.7"
        ],
        [
         "2010-01-07 00:00:00",
         "0.05",
         "0.16",
         "0.4",
         "1.03",
         "1.62",
         "2.62",
         "3.33",
         "3.85",
         "4.62",
         "4.69"
        ],
        [
         "2010-01-08 00:00:00",
         "0.05",
         "0.15",
         "0.37",
         "0.96",
         "1.56",
         "2.57",
         "3.31",
         "3.83",
         "4.61",
         "4.7"
        ],
        [
         "2010-01-11 00:00:00",
         "0.04",
         "0.13",
         "0.35",
         "0.95",
         "1.55",
         "2.58",
         "3.32",
         "3.85",
         "4.64",
         "4.74"
        ],
        [
         "2010-01-12 00:00:00",
         "0.05",
         "0.14",
         "0.34",
         "0.92",
         "1.5",
         "2.49",
         "3.22",
         "3.74",
         "4.52",
         "4.62"
        ],
        [
         "2010-01-13 00:00:00",
         "0.06",
         "0.15",
         "0.37",
         "0.97",
         "1.54",
         "2.55",
         "3.28",
         "3.8",
         "4.6",
         "4.71"
        ],
        [
         "2010-01-14 00:00:00",
         "0.05",
         "0.14",
         "0.34",
         "0.94",
         "1.49",
         "2.51",
         "3.23",
         "3.76",
         "4.52",
         "4.63"
        ],
        [
         "2010-01-15 00:00:00",
         "0.06",
         "0.15",
         "0.33",
         "0.89",
         "1.44",
         "2.44",
         "3.17",
         "3.7",
         "4.48",
         "4.58"
        ],
        [
         "2010-01-19 00:00:00",
         "0.06",
         "0.14",
         "0.33",
         "0.93",
         "1.48",
         "2.48",
         "3.2",
         "3.73",
         "4.49",
         "4.6"
        ],
        [
         "2010-01-20 00:00:00",
         "0.05",
         "0.14",
         "0.31",
         "0.92",
         "1.46",
         "2.45",
         "3.16",
         "3.68",
         "4.43",
         "4.54"
        ],
        [
         "2010-01-21 00:00:00",
         "0.06",
         "0.14",
         "0.31",
         "0.87",
         "1.41",
         "2.38",
         "3.09",
         "3.62",
         "4.38",
         "4.5"
        ],
        [
         "2010-01-22 00:00:00",
         "0.06",
         "0.14",
         "0.3",
         "0.84",
         "1.39",
         "2.37",
         "3.09",
         "3.62",
         "4.38",
         "4.5"
        ],
        [
         "2010-01-25 00:00:00",
         "0.06",
         "0.14",
         "0.3",
         "0.86",
         "1.4",
         "2.39",
         "3.12",
         "3.66",
         "4.42",
         "4.55"
        ],
        [
         "2010-01-26 00:00:00",
         "0.07",
         "0.14",
         "0.32",
         "0.87",
         "1.4",
         "2.38",
         "3.11",
         "3.65",
         "4.43",
         "4.56"
        ],
        [
         "2010-01-27 00:00:00",
         "0.08",
         "0.16",
         "0.33",
         "0.9",
         "1.46",
         "2.43",
         "3.14",
         "3.66",
         "4.42",
         "4.55"
        ],
        [
         "2010-01-28 00:00:00",
         "0.08",
         "0.15",
         "0.31",
         "0.87",
         "1.44",
         "2.41",
         "3.15",
         "3.68",
         "4.44",
         "4.57"
        ],
        [
         "2010-01-29 00:00:00",
         "0.08",
         "0.15",
         "0.3",
         "0.82",
         "1.38",
         "2.34",
         "3.08",
         "3.63",
         "4.38",
         "4.51"
        ],
        [
         "2010-02-01 00:00:00",
         "0.1",
         "0.17",
         "0.33",
         "0.86",
         "1.41",
         "2.38",
         "3.12",
         "3.68",
         "4.43",
         "4.56"
        ],
        [
         "2010-02-02 00:00:00",
         "0.1",
         "0.17",
         "0.33",
         "0.86",
         "1.41",
         "2.37",
         "3.11",
         "3.67",
         "4.42",
         "4.55"
        ],
        [
         "2010-02-03 00:00:00",
         "0.1",
         "0.17",
         "0.35",
         "0.88",
         "1.44",
         "2.4",
         "3.16",
         "3.73",
         "4.49",
         "4.62"
        ],
        [
         "2010-02-04 00:00:00",
         "0.09",
         "0.16",
         "0.32",
         "0.8",
         "1.34",
         "2.29",
         "3.06",
         "3.62",
         "4.39",
         "4.53"
        ],
        [
         "2010-02-05 00:00:00",
         "0.1",
         "0.17",
         "0.31",
         "0.77",
         "1.28",
         "2.23",
         "3.0",
         "3.59",
         "4.36",
         "4.51"
        ],
        [
         "2010-02-08 00:00:00",
         "0.12",
         "0.17",
         "0.32",
         "0.79",
         "1.3",
         "2.26",
         "3.03",
         "3.62",
         "4.38",
         "4.52"
        ],
        [
         "2010-02-09 00:00:00",
         "0.12",
         "0.18",
         "0.34",
         "0.84",
         "1.37",
         "2.32",
         "3.08",
         "3.67",
         "4.44",
         "4.58"
        ],
        [
         "2010-02-10 00:00:00",
         "0.11",
         "0.19",
         "0.38",
         "0.91",
         "1.44",
         "2.39",
         "3.14",
         "3.72",
         "4.51",
         "4.65"
        ],
        [
         "2010-02-11 00:00:00",
         "0.11",
         "0.18",
         "0.38",
         "0.91",
         "1.43",
         "2.39",
         "3.15",
         "3.73",
         "4.54",
         "4.69"
        ],
        [
         "2010-02-12 00:00:00",
         "0.1",
         "0.18",
         "0.35",
         "0.84",
         "1.38",
         "2.35",
         "3.11",
         "3.69",
         "4.52",
         "4.66"
        ],
        [
         "2010-02-16 00:00:00",
         "0.1",
         "0.18",
         "0.34",
         "0.82",
         "1.36",
         "2.32",
         "3.08",
         "3.66",
         "4.49",
         "4.63"
        ],
        [
         "2010-02-17 00:00:00",
         "0.1",
         "0.18",
         "0.35",
         "0.87",
         "1.42",
         "2.4",
         "3.16",
         "3.74",
         "4.56",
         "4.7"
        ],
        [
         "2010-02-18 00:00:00",
         "0.1",
         "0.18",
         "0.37",
         "0.9",
         "1.47",
         "2.46",
         "3.23",
         "3.79",
         "4.61",
         "4.74"
        ],
        [
         "2010-02-19 00:00:00",
         "0.11",
         "0.2",
         "0.39",
         "0.95",
         "1.51",
         "2.48",
         "3.24",
         "3.78",
         "4.58",
         "4.71"
        ],
        [
         "2010-02-22 00:00:00",
         "0.11",
         "0.19",
         "0.37",
         "0.91",
         "1.48",
         "2.47",
         "3.25",
         "3.8",
         "4.6",
         "4.73"
        ],
        [
         "2010-02-23 00:00:00",
         "0.12",
         "0.2",
         "0.36",
         "0.87",
         "1.42",
         "2.37",
         "3.13",
         "3.69",
         "4.49",
         "4.63"
        ],
        [
         "2010-02-24 00:00:00",
         "0.12",
         "0.19",
         "0.34",
         "0.87",
         "1.42",
         "2.4",
         "3.14",
         "3.7",
         "4.49",
         "4.63"
        ],
        [
         "2010-02-25 00:00:00",
         "0.13",
         "0.19",
         "0.32",
         "0.82",
         "1.38",
         "2.33",
         "3.09",
         "3.64",
         "4.44",
         "4.58"
        ],
        [
         "2010-02-26 00:00:00",
         "0.13",
         "0.19",
         "0.32",
         "0.81",
         "1.36",
         "2.3",
         "3.05",
         "3.61",
         "4.4",
         "4.55"
        ],
        [
         "2010-03-01 00:00:00",
         "0.13",
         "0.19",
         "0.32",
         "0.8",
         "1.34",
         "2.28",
         "3.04",
         "3.61",
         "4.41",
         "4.56"
        ],
        [
         "2010-03-02 00:00:00",
         "0.14",
         "0.19",
         "0.32",
         "0.8",
         "1.33",
         "2.27",
         "3.04",
         "3.62",
         "4.42",
         "4.57"
        ],
        [
         "2010-03-03 00:00:00",
         "0.14",
         "0.19",
         "0.33",
         "0.82",
         "1.34",
         "2.27",
         "3.04",
         "3.63",
         "4.43",
         "4.58"
        ],
        [
         "2010-03-04 00:00:00",
         "0.14",
         "0.19",
         "0.35",
         "0.86",
         "1.38",
         "2.28",
         "3.03",
         "3.61",
         "4.4",
         "4.56"
        ],
        [
         "2010-03-05 00:00:00",
         "0.15",
         "0.2",
         "0.38",
         "0.91",
         "1.43",
         "2.35",
         "3.1",
         "3.69",
         "4.49",
         "4.64"
        ],
        [
         "2010-03-08 00:00:00",
         "0.16",
         "0.21",
         "0.39",
         "0.9",
         "1.43",
         "2.36",
         "3.13",
         "3.72",
         "4.52",
         "4.68"
        ],
        [
         "2010-03-09 00:00:00",
         "0.16",
         "0.21",
         "0.37",
         "0.89",
         "1.43",
         "2.34",
         "3.11",
         "3.71",
         "4.53",
         "4.68"
        ],
        [
         "2010-03-10 00:00:00",
         "0.15",
         "0.21",
         "0.39",
         "0.92",
         "1.45",
         "2.39",
         "3.14",
         "3.73",
         "4.53",
         "4.69"
        ],
        [
         "2010-03-11 00:00:00",
         "0.16",
         "0.22",
         "0.4",
         "0.97",
         "1.5",
         "2.43",
         "3.16",
         "3.73",
         "4.51",
         "4.66"
        ],
        [
         "2010-03-12 00:00:00",
         "0.15",
         "0.24",
         "0.41",
         "0.97",
         "1.5",
         "2.42",
         "3.15",
         "3.71",
         "4.47",
         "4.62"
        ],
        [
         "2010-03-15 00:00:00",
         "0.17",
         "0.24",
         "0.4",
         "0.96",
         "1.49",
         "2.42",
         "3.15",
         "3.71",
         "4.48",
         "4.63"
        ],
        [
         "2010-03-16 00:00:00",
         "0.16",
         "0.24",
         "0.41",
         "0.93",
         "1.47",
         "2.37",
         "3.1",
         "3.66",
         "4.43",
         "4.59"
        ]
       ],
       "shape": {
        "columns": 10,
        "rows": 3253
       }
      },
      "text/html": [
       "<div>\n",
       "<style scoped>\n",
       "    .dataframe tbody tr th:only-of-type {\n",
       "        vertical-align: middle;\n",
       "    }\n",
       "\n",
       "    .dataframe tbody tr th {\n",
       "        vertical-align: top;\n",
       "    }\n",
       "\n",
       "    .dataframe thead th {\n",
       "        text-align: right;\n",
       "    }\n",
       "</style>\n",
       "<table border=\"1\" class=\"dataframe\">\n",
       "  <thead>\n",
       "    <tr style=\"text-align: right;\">\n",
       "      <th></th>\n",
       "      <th>3 Mo</th>\n",
       "      <th>6 Mo</th>\n",
       "      <th>1 Yr</th>\n",
       "      <th>2 Yr</th>\n",
       "      <th>3 Yr</th>\n",
       "      <th>5 Yr</th>\n",
       "      <th>7 Yr</th>\n",
       "      <th>10 Yr</th>\n",
       "      <th>20 Yr</th>\n",
       "      <th>30 Yr</th>\n",
       "    </tr>\n",
       "    <tr>\n",
       "      <th>Date</th>\n",
       "      <th></th>\n",
       "      <th></th>\n",
       "      <th></th>\n",
       "      <th></th>\n",
       "      <th></th>\n",
       "      <th></th>\n",
       "      <th></th>\n",
       "      <th></th>\n",
       "      <th></th>\n",
       "      <th></th>\n",
       "    </tr>\n",
       "  </thead>\n",
       "  <tbody>\n",
       "    <tr>\n",
       "      <th>2010-01-04</th>\n",
       "      <td>0.08</td>\n",
       "      <td>0.18</td>\n",
       "      <td>0.45</td>\n",
       "      <td>1.09</td>\n",
       "      <td>1.66</td>\n",
       "      <td>2.65</td>\n",
       "      <td>3.36</td>\n",
       "      <td>3.85</td>\n",
       "      <td>4.60</td>\n",
       "      <td>4.65</td>\n",
       "    </tr>\n",
       "    <tr>\n",
       "      <th>2010-01-05</th>\n",
       "      <td>0.07</td>\n",
       "      <td>0.17</td>\n",
       "      <td>0.41</td>\n",
       "      <td>1.01</td>\n",
       "      <td>1.57</td>\n",
       "      <td>2.56</td>\n",
       "      <td>3.28</td>\n",
       "      <td>3.77</td>\n",
       "      <td>4.54</td>\n",
       "      <td>4.59</td>\n",
       "    </tr>\n",
       "    <tr>\n",
       "      <th>2010-01-06</th>\n",
       "      <td>0.06</td>\n",
       "      <td>0.15</td>\n",
       "      <td>0.40</td>\n",
       "      <td>1.01</td>\n",
       "      <td>1.60</td>\n",
       "      <td>2.60</td>\n",
       "      <td>3.33</td>\n",
       "      <td>3.85</td>\n",
       "      <td>4.63</td>\n",
       "      <td>4.70</td>\n",
       "    </tr>\n",
       "    <tr>\n",
       "      <th>2010-01-07</th>\n",
       "      <td>0.05</td>\n",
       "      <td>0.16</td>\n",
       "      <td>0.40</td>\n",
       "      <td>1.03</td>\n",
       "      <td>1.62</td>\n",
       "      <td>2.62</td>\n",
       "      <td>3.33</td>\n",
       "      <td>3.85</td>\n",
       "      <td>4.62</td>\n",
       "      <td>4.69</td>\n",
       "    </tr>\n",
       "    <tr>\n",
       "      <th>2010-01-08</th>\n",
       "      <td>0.05</td>\n",
       "      <td>0.15</td>\n",
       "      <td>0.37</td>\n",
       "      <td>0.96</td>\n",
       "      <td>1.56</td>\n",
       "      <td>2.57</td>\n",
       "      <td>3.31</td>\n",
       "      <td>3.83</td>\n",
       "      <td>4.61</td>\n",
       "      <td>4.70</td>\n",
       "    </tr>\n",
       "    <tr>\n",
       "      <th>...</th>\n",
       "      <td>...</td>\n",
       "      <td>...</td>\n",
       "      <td>...</td>\n",
       "      <td>...</td>\n",
       "      <td>...</td>\n",
       "      <td>...</td>\n",
       "      <td>...</td>\n",
       "      <td>...</td>\n",
       "      <td>...</td>\n",
       "      <td>...</td>\n",
       "    </tr>\n",
       "    <tr>\n",
       "      <th>2022-12-23</th>\n",
       "      <td>4.34</td>\n",
       "      <td>4.67</td>\n",
       "      <td>4.66</td>\n",
       "      <td>4.31</td>\n",
       "      <td>4.09</td>\n",
       "      <td>3.86</td>\n",
       "      <td>3.83</td>\n",
       "      <td>3.75</td>\n",
       "      <td>3.99</td>\n",
       "      <td>3.82</td>\n",
       "    </tr>\n",
       "    <tr>\n",
       "      <th>2022-12-27</th>\n",
       "      <td>4.46</td>\n",
       "      <td>4.76</td>\n",
       "      <td>4.75</td>\n",
       "      <td>4.32</td>\n",
       "      <td>4.17</td>\n",
       "      <td>3.94</td>\n",
       "      <td>3.93</td>\n",
       "      <td>3.84</td>\n",
       "      <td>4.10</td>\n",
       "      <td>3.93</td>\n",
       "    </tr>\n",
       "    <tr>\n",
       "      <th>2022-12-28</th>\n",
       "      <td>4.46</td>\n",
       "      <td>4.75</td>\n",
       "      <td>4.71</td>\n",
       "      <td>4.31</td>\n",
       "      <td>4.18</td>\n",
       "      <td>3.97</td>\n",
       "      <td>3.97</td>\n",
       "      <td>3.88</td>\n",
       "      <td>4.13</td>\n",
       "      <td>3.98</td>\n",
       "    </tr>\n",
       "    <tr>\n",
       "      <th>2022-12-29</th>\n",
       "      <td>4.45</td>\n",
       "      <td>4.73</td>\n",
       "      <td>4.71</td>\n",
       "      <td>4.34</td>\n",
       "      <td>4.16</td>\n",
       "      <td>3.94</td>\n",
       "      <td>3.91</td>\n",
       "      <td>3.83</td>\n",
       "      <td>4.09</td>\n",
       "      <td>3.92</td>\n",
       "    </tr>\n",
       "    <tr>\n",
       "      <th>2022-12-30</th>\n",
       "      <td>4.42</td>\n",
       "      <td>4.76</td>\n",
       "      <td>4.73</td>\n",
       "      <td>4.41</td>\n",
       "      <td>4.22</td>\n",
       "      <td>3.99</td>\n",
       "      <td>3.96</td>\n",
       "      <td>3.88</td>\n",
       "      <td>4.14</td>\n",
       "      <td>3.97</td>\n",
       "    </tr>\n",
       "  </tbody>\n",
       "</table>\n",
       "<p>3253 rows × 10 columns</p>\n",
       "</div>"
      ],
      "text/plain": [
       "            3 Mo  6 Mo  1 Yr  2 Yr  3 Yr  5 Yr  7 Yr  10 Yr  20 Yr  30 Yr\n",
       "Date                                                                     \n",
       "2010-01-04  0.08  0.18  0.45  1.09  1.66  2.65  3.36   3.85   4.60   4.65\n",
       "2010-01-05  0.07  0.17  0.41  1.01  1.57  2.56  3.28   3.77   4.54   4.59\n",
       "2010-01-06  0.06  0.15  0.40  1.01  1.60  2.60  3.33   3.85   4.63   4.70\n",
       "2010-01-07  0.05  0.16  0.40  1.03  1.62  2.62  3.33   3.85   4.62   4.69\n",
       "2010-01-08  0.05  0.15  0.37  0.96  1.56  2.57  3.31   3.83   4.61   4.70\n",
       "...          ...   ...   ...   ...   ...   ...   ...    ...    ...    ...\n",
       "2022-12-23  4.34  4.67  4.66  4.31  4.09  3.86  3.83   3.75   3.99   3.82\n",
       "2022-12-27  4.46  4.76  4.75  4.32  4.17  3.94  3.93   3.84   4.10   3.93\n",
       "2022-12-28  4.46  4.75  4.71  4.31  4.18  3.97  3.97   3.88   4.13   3.98\n",
       "2022-12-29  4.45  4.73  4.71  4.34  4.16  3.94  3.91   3.83   4.09   3.92\n",
       "2022-12-30  4.42  4.76  4.73  4.41  4.22  3.99  3.96   3.88   4.14   3.97\n",
       "\n",
       "[3253 rows x 10 columns]"
      ]
     },
     "execution_count": 44,
     "metadata": {},
     "output_type": "execute_result"
    }
   ],
   "source": [
    "\n",
    "if path == '/': # Si estamos en la raíz del sistema, entonces no es necesario agregar la carpeta datos. (Aplica en Google Colab)\n",
    "    file_path = os.path.join('datos', 'Yields_2010-2023.csv')\n",
    "else:\n",
    "    file_path = os.path.join(path,'datos', 'Yields_2010-2023.csv')\n",
    "     \n",
    "yield_df = pd.read_csv(file_path, sep=',', index_col=0, parse_dates=True)\n",
    "yield_df\n"
   ]
  },
  {
   "cell_type": "code",
   "execution_count": 45,
   "metadata": {},
   "outputs": [
    {
     "data": {
      "application/vnd.microsoft.datawrangler.viewer.v0+json": {
       "columns": [
        {
         "name": "index",
         "rawType": "object",
         "type": "string"
        },
        {
         "name": "3 Mo",
         "rawType": "float64",
         "type": "float"
        },
        {
         "name": "6 Mo",
         "rawType": "float64",
         "type": "float"
        },
        {
         "name": "1 Yr",
         "rawType": "float64",
         "type": "float"
        },
        {
         "name": "2 Yr",
         "rawType": "float64",
         "type": "float"
        },
        {
         "name": "3 Yr",
         "rawType": "float64",
         "type": "float"
        },
        {
         "name": "5 Yr",
         "rawType": "float64",
         "type": "float"
        },
        {
         "name": "7 Yr",
         "rawType": "float64",
         "type": "float"
        },
        {
         "name": "10 Yr",
         "rawType": "float64",
         "type": "float"
        },
        {
         "name": "20 Yr",
         "rawType": "float64",
         "type": "float"
        },
        {
         "name": "30 Yr",
         "rawType": "float64",
         "type": "float"
        }
       ],
       "conversionMethod": "pd.DataFrame",
       "ref": "b56a2faf-e533-450f-a33d-f096d7c917ba",
       "rows": [
        [
         "3 Mo",
         "1.0",
         "0.9941306163651895",
         "0.978701984870521",
         "0.9377468925306238",
         "0.8869144207115552",
         "0.7392789626826811",
         "0.573964119243106",
         "0.3727039863238353",
         "0.1596084962396287",
         "0.041154651192052555"
        ],
        [
         "6 Mo",
         "0.9941306163651895",
         "1.0",
         "0.993947006324419",
         "0.9634169926113194",
         "0.9175409923920982",
         "0.7721789705801072",
         "0.6048408053975862",
         "0.3968078342070895",
         "0.1801602517419575",
         "0.05432793592534481"
        ],
        [
         "1 Yr",
         "0.978701984870521",
         "0.993947006324419",
         "1.0",
         "0.9846445678434467",
         "0.9472103280602997",
         "0.8101043869368979",
         "0.6438033548241487",
         "0.4305847567747876",
         "0.2072954772729219",
         "0.07582446539829298"
        ],
        [
         "2 Yr",
         "0.9377468925306238",
         "0.9634169926113194",
         "0.9846445678434467",
         "1.0",
         "0.9867002108439789",
         "0.8845648479659503",
         "0.7344199749582436",
         "0.5231025199250885",
         "0.29258096543891743",
         "0.1557542100697219"
        ],
        [
         "3 Yr",
         "0.8869144207115552",
         "0.9175409923920982",
         "0.9472103280602997",
         "0.9867002108439789",
         "1.0",
         "0.944758677201966",
         "0.8226037298254454",
         "0.6257817138263858",
         "0.39815621135176554",
         "0.26128024993231014"
        ],
        [
         "5 Yr",
         "0.7392789626826811",
         "0.7721789705801072",
         "0.8101043869368979",
         "0.8845648479659503",
         "0.944758677201966",
         "1.0",
         "0.9614093547947223",
         "0.8338036130768628",
         "0.6468767900161182",
         "0.528496596386706"
        ],
        [
         "7 Yr",
         "0.573964119243106",
         "0.6048408053975862",
         "0.6438033548241487",
         "0.7344199749582436",
         "0.8226037298254454",
         "0.9614093547947223",
         "1.0",
         "0.9508140613761863",
         "0.8231925447521614",
         "0.7322560677512877"
        ],
        [
         "10 Yr",
         "0.3727039863238353",
         "0.3968078342070895",
         "0.4305847567747876",
         "0.5231025199250885",
         "0.6257817138263858",
         "0.8338036130768628",
         "0.9508140613761863",
         "1.0",
         "0.9546874958032662",
         "0.9046021490813944"
        ],
        [
         "20 Yr",
         "0.1596084962396287",
         "0.1801602517419575",
         "0.2072954772729219",
         "0.29258096543891743",
         "0.39815621135176554",
         "0.6468767900161182",
         "0.8231925447521614",
         "0.9546874958032662",
         "1.0",
         "0.9800485907140679"
        ],
        [
         "30 Yr",
         "0.041154651192052555",
         "0.05432793592534481",
         "0.07582446539829298",
         "0.1557542100697219",
         "0.26128024993231014",
         "0.528496596386706",
         "0.7322560677512877",
         "0.9046021490813944",
         "0.9800485907140679",
         "1.0"
        ]
       ],
       "shape": {
        "columns": 10,
        "rows": 10
       }
      },
      "text/html": [
       "<div>\n",
       "<style scoped>\n",
       "    .dataframe tbody tr th:only-of-type {\n",
       "        vertical-align: middle;\n",
       "    }\n",
       "\n",
       "    .dataframe tbody tr th {\n",
       "        vertical-align: top;\n",
       "    }\n",
       "\n",
       "    .dataframe thead th {\n",
       "        text-align: right;\n",
       "    }\n",
       "</style>\n",
       "<table border=\"1\" class=\"dataframe\">\n",
       "  <thead>\n",
       "    <tr style=\"text-align: right;\">\n",
       "      <th></th>\n",
       "      <th>3 Mo</th>\n",
       "      <th>6 Mo</th>\n",
       "      <th>1 Yr</th>\n",
       "      <th>2 Yr</th>\n",
       "      <th>3 Yr</th>\n",
       "      <th>5 Yr</th>\n",
       "      <th>7 Yr</th>\n",
       "      <th>10 Yr</th>\n",
       "      <th>20 Yr</th>\n",
       "      <th>30 Yr</th>\n",
       "    </tr>\n",
       "  </thead>\n",
       "  <tbody>\n",
       "    <tr>\n",
       "      <th>3 Mo</th>\n",
       "      <td>1.000000</td>\n",
       "      <td>0.994131</td>\n",
       "      <td>0.978702</td>\n",
       "      <td>0.937747</td>\n",
       "      <td>0.886914</td>\n",
       "      <td>0.739279</td>\n",
       "      <td>0.573964</td>\n",
       "      <td>0.372704</td>\n",
       "      <td>0.159608</td>\n",
       "      <td>0.041155</td>\n",
       "    </tr>\n",
       "    <tr>\n",
       "      <th>6 Mo</th>\n",
       "      <td>0.994131</td>\n",
       "      <td>1.000000</td>\n",
       "      <td>0.993947</td>\n",
       "      <td>0.963417</td>\n",
       "      <td>0.917541</td>\n",
       "      <td>0.772179</td>\n",
       "      <td>0.604841</td>\n",
       "      <td>0.396808</td>\n",
       "      <td>0.180160</td>\n",
       "      <td>0.054328</td>\n",
       "    </tr>\n",
       "    <tr>\n",
       "      <th>1 Yr</th>\n",
       "      <td>0.978702</td>\n",
       "      <td>0.993947</td>\n",
       "      <td>1.000000</td>\n",
       "      <td>0.984645</td>\n",
       "      <td>0.947210</td>\n",
       "      <td>0.810104</td>\n",
       "      <td>0.643803</td>\n",
       "      <td>0.430585</td>\n",
       "      <td>0.207295</td>\n",
       "      <td>0.075824</td>\n",
       "    </tr>\n",
       "    <tr>\n",
       "      <th>2 Yr</th>\n",
       "      <td>0.937747</td>\n",
       "      <td>0.963417</td>\n",
       "      <td>0.984645</td>\n",
       "      <td>1.000000</td>\n",
       "      <td>0.986700</td>\n",
       "      <td>0.884565</td>\n",
       "      <td>0.734420</td>\n",
       "      <td>0.523103</td>\n",
       "      <td>0.292581</td>\n",
       "      <td>0.155754</td>\n",
       "    </tr>\n",
       "    <tr>\n",
       "      <th>3 Yr</th>\n",
       "      <td>0.886914</td>\n",
       "      <td>0.917541</td>\n",
       "      <td>0.947210</td>\n",
       "      <td>0.986700</td>\n",
       "      <td>1.000000</td>\n",
       "      <td>0.944759</td>\n",
       "      <td>0.822604</td>\n",
       "      <td>0.625782</td>\n",
       "      <td>0.398156</td>\n",
       "      <td>0.261280</td>\n",
       "    </tr>\n",
       "    <tr>\n",
       "      <th>5 Yr</th>\n",
       "      <td>0.739279</td>\n",
       "      <td>0.772179</td>\n",
       "      <td>0.810104</td>\n",
       "      <td>0.884565</td>\n",
       "      <td>0.944759</td>\n",
       "      <td>1.000000</td>\n",
       "      <td>0.961409</td>\n",
       "      <td>0.833804</td>\n",
       "      <td>0.646877</td>\n",
       "      <td>0.528497</td>\n",
       "    </tr>\n",
       "    <tr>\n",
       "      <th>7 Yr</th>\n",
       "      <td>0.573964</td>\n",
       "      <td>0.604841</td>\n",
       "      <td>0.643803</td>\n",
       "      <td>0.734420</td>\n",
       "      <td>0.822604</td>\n",
       "      <td>0.961409</td>\n",
       "      <td>1.000000</td>\n",
       "      <td>0.950814</td>\n",
       "      <td>0.823193</td>\n",
       "      <td>0.732256</td>\n",
       "    </tr>\n",
       "    <tr>\n",
       "      <th>10 Yr</th>\n",
       "      <td>0.372704</td>\n",
       "      <td>0.396808</td>\n",
       "      <td>0.430585</td>\n",
       "      <td>0.523103</td>\n",
       "      <td>0.625782</td>\n",
       "      <td>0.833804</td>\n",
       "      <td>0.950814</td>\n",
       "      <td>1.000000</td>\n",
       "      <td>0.954687</td>\n",
       "      <td>0.904602</td>\n",
       "    </tr>\n",
       "    <tr>\n",
       "      <th>20 Yr</th>\n",
       "      <td>0.159608</td>\n",
       "      <td>0.180160</td>\n",
       "      <td>0.207295</td>\n",
       "      <td>0.292581</td>\n",
       "      <td>0.398156</td>\n",
       "      <td>0.646877</td>\n",
       "      <td>0.823193</td>\n",
       "      <td>0.954687</td>\n",
       "      <td>1.000000</td>\n",
       "      <td>0.980049</td>\n",
       "    </tr>\n",
       "    <tr>\n",
       "      <th>30 Yr</th>\n",
       "      <td>0.041155</td>\n",
       "      <td>0.054328</td>\n",
       "      <td>0.075824</td>\n",
       "      <td>0.155754</td>\n",
       "      <td>0.261280</td>\n",
       "      <td>0.528497</td>\n",
       "      <td>0.732256</td>\n",
       "      <td>0.904602</td>\n",
       "      <td>0.980049</td>\n",
       "      <td>1.000000</td>\n",
       "    </tr>\n",
       "  </tbody>\n",
       "</table>\n",
       "</div>"
      ],
      "text/plain": [
       "           3 Mo      6 Mo      1 Yr      2 Yr      3 Yr      5 Yr      7 Yr  \\\n",
       "3 Mo   1.000000  0.994131  0.978702  0.937747  0.886914  0.739279  0.573964   \n",
       "6 Mo   0.994131  1.000000  0.993947  0.963417  0.917541  0.772179  0.604841   \n",
       "1 Yr   0.978702  0.993947  1.000000  0.984645  0.947210  0.810104  0.643803   \n",
       "2 Yr   0.937747  0.963417  0.984645  1.000000  0.986700  0.884565  0.734420   \n",
       "3 Yr   0.886914  0.917541  0.947210  0.986700  1.000000  0.944759  0.822604   \n",
       "5 Yr   0.739279  0.772179  0.810104  0.884565  0.944759  1.000000  0.961409   \n",
       "7 Yr   0.573964  0.604841  0.643803  0.734420  0.822604  0.961409  1.000000   \n",
       "10 Yr  0.372704  0.396808  0.430585  0.523103  0.625782  0.833804  0.950814   \n",
       "20 Yr  0.159608  0.180160  0.207295  0.292581  0.398156  0.646877  0.823193   \n",
       "30 Yr  0.041155  0.054328  0.075824  0.155754  0.261280  0.528497  0.732256   \n",
       "\n",
       "          10 Yr     20 Yr     30 Yr  \n",
       "3 Mo   0.372704  0.159608  0.041155  \n",
       "6 Mo   0.396808  0.180160  0.054328  \n",
       "1 Yr   0.430585  0.207295  0.075824  \n",
       "2 Yr   0.523103  0.292581  0.155754  \n",
       "3 Yr   0.625782  0.398156  0.261280  \n",
       "5 Yr   0.833804  0.646877  0.528497  \n",
       "7 Yr   0.950814  0.823193  0.732256  \n",
       "10 Yr  1.000000  0.954687  0.904602  \n",
       "20 Yr  0.954687  1.000000  0.980049  \n",
       "30 Yr  0.904602  0.980049  1.000000  "
      ]
     },
     "execution_count": 45,
     "metadata": {},
     "output_type": "execute_result"
    }
   ],
   "source": [
    "yield_df.corr() \n",
    "### Note que la correlación es mayor cuando el vencimiento de los títulos es similar."
   ]
  },
  {
   "cell_type": "code",
   "execution_count": 46,
   "metadata": {},
   "outputs": [
    {
     "data": {
      "text/plain": [
       "3 Mo     0.633739\n",
       "6 Mo     0.727528\n",
       "1 Yr     0.822801\n",
       "2 Yr     1.017872\n",
       "3 Yr     1.212196\n",
       "5 Yr     1.605953\n",
       "7 Yr     1.951605\n",
       "10 Yr    2.255661\n",
       "20 Yr    2.756839\n",
       "30 Yr    2.969868\n",
       "dtype: float64"
      ]
     },
     "execution_count": 46,
     "metadata": {},
     "output_type": "execute_result"
    }
   ],
   "source": [
    "yield_df.mean()"
   ]
  },
  {
   "cell_type": "markdown",
   "metadata": {},
   "source": [
    "Se puede notar que efectivamente hay cierta prima termino en promedio a lo largo del tiempo."
   ]
  },
  {
   "cell_type": "code",
   "execution_count": 47,
   "metadata": {},
   "outputs": [
    {
     "data": {
      "text/plain": [
       "3 Mo     0.023684\n",
       "6 Mo     0.022396\n",
       "1 Yr     0.026216\n",
       "2 Yr     0.036711\n",
       "3 Yr     0.042277\n",
       "5 Yr     0.049538\n",
       "7 Yr     0.052625\n",
       "10 Yr    0.051712\n",
       "20 Yr    0.052232\n",
       "30 Yr    0.051584\n",
       "dtype: float64"
      ]
     },
     "execution_count": 47,
     "metadata": {},
     "output_type": "execute_result"
    }
   ],
   "source": [
    "yield_df.diff().std()"
   ]
  },
  {
   "cell_type": "markdown",
   "metadata": {},
   "source": [
    "Se muestra que a mayor plazo mayor desviación estándar."
   ]
  },
  {
   "cell_type": "code",
   "execution_count": 48,
   "metadata": {},
   "outputs": [],
   "source": [
    "\n",
    "from sklearn.decomposition import PCA\n",
    "from sklearn.preprocessing import scale, StandardScaler\n",
    "#Step1: We calculate the mean of the scaled data.\n",
    "df_normalized_mean = pd.DataFrame(scale(yield_df))\n",
    "#Step2: Remove any missing data points\n",
    "df_normalized_mean.dropna(inplace=True)"
   ]
  },
  {
   "cell_type": "code",
   "execution_count": 49,
   "metadata": {},
   "outputs": [
    {
     "data": {
      "text/plain": [
       "Text(0.5, 1.0, 'Scree Plot')"
      ]
     },
     "execution_count": 49,
     "metadata": {},
     "output_type": "execute_result"
    },
    {
     "data": {
      "image/png": "[encoded data removed]",
      "text/plain": [
       "<Figure size 640x480 with 1 Axes>"
      ]
     },
     "metadata": {},
     "output_type": "display_data"
    }
   ],
   "source": [
    "\n",
    "instruments = yield_df.columns\n",
    "#Step3: We calculate the PCA using fit_transform\n",
    "components = ['Level', 'Slope', 'Curve']\n",
    "pca = PCA(n_components=len(components))\n",
    "\n",
    "YC_PCA = pca.fit_transform(df_normalized_mean)\n",
    "#Step4: Create a SCREE plot to check the weights of each component\n",
    "per_var = np.round(pca.explained_variance_ratio_ * 100, decimals=1)\n",
    "labels = ['PC' + str(x) for x in range(1, len(per_var)+1)]\n",
    "plt.bar(x=range(1, len(per_var)+1), height=per_var, tick_label=labels)\n",
    "plt.ylabel('Percentage of Explained Variance')\n",
    "plt.xlabel('Principal Component')\n",
    "plt.title('Scree Plot')\n"
   ]
  },
  {
   "cell_type": "code",
   "execution_count": 50,
   "metadata": {},
   "outputs": [
    {
     "data": {
      "text/plain": [
       "array([7.09539945, 2.66649767, 0.20288977])"
      ]
     },
     "execution_count": 50,
     "metadata": {},
     "output_type": "execute_result"
    }
   ],
   "source": [
    "# Los eigenvalores de la matriz.\n",
    "\n",
    "pca.explained_variance_"
   ]
  },
  {
   "cell_type": "markdown",
   "metadata": {},
   "source": [
    "El 70% de la variación en las tasas se explica por el factor de nivel, el 26.7% por el factor de pendiente, el 2% por el factor de curvatura."
   ]
  },
  {
   "cell_type": "code",
   "execution_count": 51,
   "metadata": {},
   "outputs": [
    {
     "data": {
      "text/plain": [
       "Text(0.5, 1.0, 'Cumulative Explained Variance')"
      ]
     },
     "execution_count": 51,
     "metadata": {},
     "output_type": "execute_result"
    },
    {
     "data": {
      "image/png": "[encoded data removed]",
      "text/plain": [
       "<Figure size 640x480 with 1 Axes>"
      ]
     },
     "metadata": {},
     "output_type": "display_data"
    }
   ],
   "source": [
    "plt.plot(labels, pca.explained_variance_ratio_.cumsum()*100)\n",
    "plt.ylabel('Percentage of Explained Variance')\n",
    "plt.xlabel('Principal Component')\n",
    "plt.title('Cumulative Explained Variance')"
   ]
  },
  {
   "cell_type": "code",
   "execution_count": 52,
   "metadata": {},
   "outputs": [
    {
     "data": {
      "application/vnd.microsoft.datawrangler.viewer.v0+json": {
       "columns": [
        {
         "name": "index",
         "rawType": "int64",
         "type": "integer"
        },
        {
         "name": "3 Mo",
         "rawType": "float64",
         "type": "float"
        },
        {
         "name": "6 Mo",
         "rawType": "float64",
         "type": "float"
        },
        {
         "name": "1 Yr",
         "rawType": "float64",
         "type": "float"
        },
        {
         "name": "2 Yr",
         "rawType": "float64",
         "type": "float"
        },
        {
         "name": "3 Yr",
         "rawType": "float64",
         "type": "float"
        },
        {
         "name": "5 Yr",
         "rawType": "float64",
         "type": "float"
        },
        {
         "name": "7 Yr",
         "rawType": "float64",
         "type": "float"
        },
        {
         "name": "10 Yr",
         "rawType": "float64",
         "type": "float"
        },
        {
         "name": "20 Yr",
         "rawType": "float64",
         "type": "float"
        },
        {
         "name": "30 Yr",
         "rawType": "float64",
         "type": "float"
        }
       ],
       "conversionMethod": "pd.DataFrame",
       "ref": "ca8e1d41-2523-45cb-b30a-d0bc95ba0df4",
       "rows": [
        [
         "0",
         "0.3151653720524111",
         "0.32395493561542066",
         "0.3325775886717607",
         "0.34850632399845405",
         "0.3604402679339243",
         "0.3666659783256123",
         "0.3463270842161247",
         "0.29947744235733204",
         "0.23243851562478782",
         "0.1887895651186555"
        ],
        [
         "1",
         "-0.301795775753784",
         "-0.2944699884982138",
         "-0.278496790079877",
         "-0.22008542405549913",
         "-0.1432871805512224",
         "0.0521953012833367",
         "0.2150645663613041",
         "0.3682224001610987",
         "0.47333341562486647",
         "0.516786307893789"
        ],
        [
         "2",
         "0.4725835233137417",
         "0.3417264488884649",
         "0.16409097189326638",
         "-0.1313607703910768",
         "-0.32624374701046865",
         "-0.43028130414763266",
         "-0.33077353166792495",
         "-0.03409568079286962",
         "0.25185203283514535",
         "0.3874613196971038"
        ]
       ],
       "shape": {
        "columns": 10,
        "rows": 3
       }
      },
      "text/html": [
       "<div>\n",
       "<style scoped>\n",
       "    .dataframe tbody tr th:only-of-type {\n",
       "        vertical-align: middle;\n",
       "    }\n",
       "\n",
       "    .dataframe tbody tr th {\n",
       "        vertical-align: top;\n",
       "    }\n",
       "\n",
       "    .dataframe thead th {\n",
       "        text-align: right;\n",
       "    }\n",
       "</style>\n",
       "<table border=\"1\" class=\"dataframe\">\n",
       "  <thead>\n",
       "    <tr style=\"text-align: right;\">\n",
       "      <th></th>\n",
       "      <th>3 Mo</th>\n",
       "      <th>6 Mo</th>\n",
       "      <th>1 Yr</th>\n",
       "      <th>2 Yr</th>\n",
       "      <th>3 Yr</th>\n",
       "      <th>5 Yr</th>\n",
       "      <th>7 Yr</th>\n",
       "      <th>10 Yr</th>\n",
       "      <th>20 Yr</th>\n",
       "      <th>30 Yr</th>\n",
       "    </tr>\n",
       "  </thead>\n",
       "  <tbody>\n",
       "    <tr>\n",
       "      <th>0</th>\n",
       "      <td>0.315165</td>\n",
       "      <td>0.323955</td>\n",
       "      <td>0.332578</td>\n",
       "      <td>0.348506</td>\n",
       "      <td>0.360440</td>\n",
       "      <td>0.366666</td>\n",
       "      <td>0.346327</td>\n",
       "      <td>0.299477</td>\n",
       "      <td>0.232439</td>\n",
       "      <td>0.188790</td>\n",
       "    </tr>\n",
       "    <tr>\n",
       "      <th>1</th>\n",
       "      <td>-0.301796</td>\n",
       "      <td>-0.294470</td>\n",
       "      <td>-0.278497</td>\n",
       "      <td>-0.220085</td>\n",
       "      <td>-0.143287</td>\n",
       "      <td>0.052195</td>\n",
       "      <td>0.215065</td>\n",
       "      <td>0.368222</td>\n",
       "      <td>0.473333</td>\n",
       "      <td>0.516786</td>\n",
       "    </tr>\n",
       "    <tr>\n",
       "      <th>2</th>\n",
       "      <td>0.472584</td>\n",
       "      <td>0.341726</td>\n",
       "      <td>0.164091</td>\n",
       "      <td>-0.131361</td>\n",
       "      <td>-0.326244</td>\n",
       "      <td>-0.430281</td>\n",
       "      <td>-0.330774</td>\n",
       "      <td>-0.034096</td>\n",
       "      <td>0.251852</td>\n",
       "      <td>0.387461</td>\n",
       "    </tr>\n",
       "  </tbody>\n",
       "</table>\n",
       "</div>"
      ],
      "text/plain": [
       "       3 Mo      6 Mo      1 Yr      2 Yr      3 Yr      5 Yr      7 Yr  \\\n",
       "0  0.315165  0.323955  0.332578  0.348506  0.360440  0.366666  0.346327   \n",
       "1 -0.301796 -0.294470 -0.278497 -0.220085 -0.143287  0.052195  0.215065   \n",
       "2  0.472584  0.341726  0.164091 -0.131361 -0.326244 -0.430281 -0.330774   \n",
       "\n",
       "      10 Yr     20 Yr     30 Yr  \n",
       "0  0.299477  0.232439  0.188790  \n",
       "1  0.368222  0.473333  0.516786  \n",
       "2 -0.034096  0.251852  0.387461  "
      ]
     },
     "execution_count": 52,
     "metadata": {},
     "output_type": "execute_result"
    }
   ],
   "source": [
    "# \n",
    "PC1, PC2, PC3 = pca.components_[0],pca.components_[1],pca.components_[2]\n",
    "NumComponents = 3\n",
    "\n",
    "topPorfolios = pd.DataFrame(pca.components_[:NumComponents],columns=instruments)\n",
    "topPorfolios"
   ]
  },
  {
   "cell_type": "code",
   "execution_count": 53,
   "metadata": {},
   "outputs": [
    {
     "data": {
      "text/plain": [
       "(0.0, 0.14)"
      ]
     },
     "execution_count": 53,
     "metadata": {},
     "output_type": "execute_result"
    },
    {
     "data": {
      "image/png": "[encoded data removed]",
      "text/plain": [
       "<Figure size 1400x1000 with 3 Axes>"
      ]
     },
     "metadata": {},
     "output_type": "display_data"
    }
   ],
   "source": [
    "\n",
    "eigenPortfolios = topPorfolios.div(topPorfolios.sum(1),axis=0)\n",
    "#eigenPortfolios.index = [ f'Portfolio {i}' for i in range(NumComponents)]\n",
    "eigenPortfolios.index = ['Level', 'Slope', 'Curvature']\n",
    "axs = eigenPortfolios.T.plot.bar(subplots=True,figsize=(14,10),legend=False)\n",
    "plt.subplots_adjust(hspace=0.25)\n",
    "axs[0].set_ylim(0,.14)"
   ]
  },
  {
   "cell_type": "code",
   "execution_count": 54,
   "metadata": {},
   "outputs": [
    {
     "data": {
      "text/plain": [
       "DatetimeIndex(['2010-01-04', '2010-01-05', '2010-01-06', '2010-01-07',\n",
       "               '2010-01-08', '2010-01-11', '2010-01-12', '2010-01-13',\n",
       "               '2010-01-14', '2010-01-15',\n",
       "               ...\n",
       "               '2022-12-16', '2022-12-19', '2022-12-20', '2022-12-21',\n",
       "               '2022-12-22', '2022-12-23', '2022-12-27', '2022-12-28',\n",
       "               '2022-12-29', '2022-12-30'],\n",
       "              dtype='datetime64[ns]', name='Date', length=3253, freq=None)"
      ]
     },
     "execution_count": 54,
     "metadata": {},
     "output_type": "execute_result"
    }
   ],
   "source": [
    "yield_df.index"
   ]
  },
  {
   "cell_type": "code",
   "execution_count": 55,
   "metadata": {},
   "outputs": [
    {
     "data": {
      "text/plain": [
       "array([[ 2.47936985,  3.8888003 , -0.52414779],\n",
       "       [ 2.24988572,  3.79228927, -0.45678469],\n",
       "       [ 2.3774251 ,  3.98572051, -0.44424577],\n",
       "       ...,\n",
       "       [ 9.61761008, -1.63887253,  1.09818456],\n",
       "       [ 9.52151631, -1.74278468,  1.0915898 ],\n",
       "       [ 9.67153437, -1.66601095,  1.04823676]])"
      ]
     },
     "execution_count": 55,
     "metadata": {},
     "output_type": "execute_result"
    }
   ],
   "source": [
    "YC_PCA"
   ]
  },
  {
   "cell_type": "code",
   "execution_count": 56,
   "metadata": {},
   "outputs": [
    {
     "data": {
      "application/vnd.microsoft.datawrangler.viewer.v0+json": {
       "columns": [
        {
         "name": "Date",
         "rawType": "datetime64[ns]",
         "type": "datetime"
        },
        {
         "name": "Level",
         "rawType": "float64",
         "type": "float"
        },
        {
         "name": "Slope",
         "rawType": "float64",
         "type": "float"
        },
        {
         "name": "Curve",
         "rawType": "float64",
         "type": "float"
        }
       ],
       "conversionMethod": "pd.DataFrame",
       "ref": "a80c6355-295f-47c5-9af1-2f665204232c",
       "rows": [
        [
         "2010-01-05 00:00:00",
         "2.479369848192148",
         "3.8888003036774137",
         "-0.5241477879883417"
        ],
        [
         "2010-01-06 00:00:00",
         "2.2498857203041616",
         "3.792289266420557",
         "-0.4567846923480691"
        ],
        [
         "2010-01-07 00:00:00",
         "2.377425098298255",
         "3.985720511628981",
         "-0.4442457727265604"
        ],
        [
         "2010-01-08 00:00:00",
         "2.3964395393261477",
         "3.9666963525050436",
         "-0.4750481889657655"
        ],
        [
         "2010-01-11 00:00:00",
         "2.2925774712671383",
         "3.984999653671627",
         "-0.41305954066635164"
        ],
        [
         "2010-01-12 00:00:00",
         "2.3048395814461964",
         "4.062356857799091",
         "-0.4040988745826291"
        ],
        [
         "2010-01-13 00:00:00",
         "2.0782828412895054",
         "3.8295361713165557",
         "-0.37576137696244655"
        ],
        [
         "2010-01-14 00:00:00",
         "2.2554636972677704",
         "3.9582069600423297",
         "-0.37465669220158015"
        ],
        [
         "2010-01-15 00:00:00",
         "2.106157377166208",
         "3.8475513638503394",
         "-0.3861243706002825"
        ],
        [
         "2010-01-19 00:00:00",
         "1.9619160945380971",
         "3.753309216169941",
         "-0.3248101462511337"
        ],
        [
         "2010-01-20 00:00:00",
         "2.042014823441951",
         "3.7867056560770194",
         "-0.3714607354462748"
        ],
        [
         "2010-01-21 00:00:00",
         "1.9346595809419853",
         "3.6851769153004943",
         "-0.3843567589596742"
        ],
        [
         "2010-01-22 00:00:00",
         "1.7852497290104807",
         "3.588885386097174",
         "-0.31858405744963025"
        ],
        [
         "2010-01-25 00:00:00",
         "1.758401191195305",
         "3.601045400227043",
         "-0.30338627575753685"
        ],
        [
         "2010-01-26 00:00:00",
         "1.8336182852302154",
         "3.683061742895205",
         "-0.2976689035026623"
        ],
        [
         "2010-01-27 00:00:00",
         "1.839222761495854",
         "3.6762986601336567",
         "-0.2720949790876889"
        ],
        [
         "2010-01-28 00:00:00",
         "1.9231751447620855",
         "3.6521879083578654",
         "-0.3338514639569612"
        ],
        [
         "2010-01-29 00:00:00",
         "1.9089074554748497",
         "3.7080072655449148",
         "-0.3070460101874591"
        ],
        [
         "2010-02-01 00:00:00",
         "1.74502894355917",
         "3.6047291441354576",
         "-0.2581148254839463"
        ],
        [
         "2010-02-02 00:00:00",
         "1.8796299272647305",
         "3.6737352109628363",
         "-0.2531963800260956"
        ],
        [
         "2010-02-03 00:00:00",
         "1.8607701245194315",
         "3.65231353166284",
         "-0.2511130453839201"
        ],
        [
         "2010-02-04 00:00:00",
         "1.9866211269677048",
         "3.773929548742579",
         "-0.24487855220809707"
        ],
        [
         "2010-02-05 00:00:00",
         "1.7061554311811538",
         "3.6094646044733256",
         "-0.17917764418917786"
        ],
        [
         "2010-02-08 00:00:00",
         "1.5924788588044354",
         "3.5542761832848764",
         "-0.10543386411574601"
        ],
        [
         "2010-02-09 00:00:00",
         "1.6664236488106783",
         "3.582014319783584",
         "-0.12333057103995027"
        ],
        [
         "2010-02-10 00:00:00",
         "1.8268516098069296",
         "3.6715417386290876",
         "-0.1564705856305258"
        ],
        [
         "2010-02-11 00:00:00",
         "2.0125251861152123",
         "3.7705910259006634",
         "-0.19577008857462666"
        ],
        [
         "2010-02-12 00:00:00",
         "2.032854313777719",
         "3.828298575191825",
         "-0.17056153245101022"
        ],
        [
         "2010-02-16 00:00:00",
         "1.9071795487091086",
         "3.7970337967265966",
         "-0.1328613943321632"
        ],
        [
         "2010-02-17 00:00:00",
         "1.8320363850845807",
         "3.7432932653574618",
         "-0.1182383123991584"
        ],
        [
         "2010-02-18 00:00:00",
         "2.022954727592077",
         "3.878050816872186",
         "-0.1701841326673355"
        ],
        [
         "2010-02-19 00:00:00",
         "2.166270651415781",
         "3.964536908028631",
         "-0.21902276635614504"
        ],
        [
         "2010-02-22 00:00:00",
         "2.2104016029093256",
         "3.8927645140934932",
         "-0.2650334922992126"
        ],
        [
         "2010-02-23 00:00:00",
         "2.193139314154046",
         "3.9531344399406243",
         "-0.23868605282408353"
        ],
        [
         "2010-02-24 00:00:00",
         "1.9528726372838157",
         "3.7373135756854032",
         "-0.1776362148222913"
        ],
        [
         "2010-02-25 00:00:00",
         "1.9657645421888734",
         "3.7556719622476904",
         "-0.20558475341064486"
        ],
        [
         "2010-02-26 00:00:00",
         "1.820674495433156",
         "3.6623414874233005",
         "-0.16064168898703485"
        ],
        [
         "2010-03-01 00:00:00",
         "1.7447875125545356",
         "3.594563824143472",
         "-0.14455581672858975"
        ],
        [
         "2010-03-02 00:00:00",
         "1.7246324168044154",
         "3.6086552161086",
         "-0.11227523922607757"
        ],
        [
         "2010-03-03 00:00:00",
         "1.7288834425747517",
         "3.624230712060477",
         "-0.09033191381642283"
        ],
        [
         "2010-03-04 00:00:00",
         "1.752986949635874",
         "3.633159425063995",
         "-0.08725154746616222"
        ],
        [
         "2010-03-05 00:00:00",
         "1.7680121648519742",
         "3.5680558399546882",
         "-0.12389342754629157"
        ],
        [
         "2010-03-08 00:00:00",
         "1.967224656828196",
         "3.708109908890887",
         "-0.13906550063326545"
        ],
        [
         "2010-03-09 00:00:00",
         "2.0232204466899844",
         "3.771170890158284",
         "-0.11790418990505558"
        ],
        [
         "2010-03-10 00:00:00",
         "1.9932953069790713",
         "3.7729059746697255",
         "-0.09623677180560686"
        ],
        [
         "2010-03-11 00:00:00",
         "2.063300278775101",
         "3.7893538294782014",
         "-0.14592239020083095"
        ],
        [
         "2010-03-12 00:00:00",
         "2.1259530646024265",
         "3.7370345681886934",
         "-0.21319147591171844"
        ],
        [
         "2010-03-15 00:00:00",
         "2.093058958038029",
         "3.6666504569035",
         "-0.23209003710990495"
        ],
        [
         "2010-03-16 00:00:00",
         "2.094308745939819",
         "3.6796860202759336",
         "-0.21034572522096562"
        ],
        [
         "2010-03-17 00:00:00",
         "1.983470927559867",
         "3.589860056024915",
         "-0.18693310600972185"
        ]
       ],
       "shape": {
        "columns": 3,
        "rows": 3252
       }
      },
      "text/html": [
       "<div>\n",
       "<style scoped>\n",
       "    .dataframe tbody tr th:only-of-type {\n",
       "        vertical-align: middle;\n",
       "    }\n",
       "\n",
       "    .dataframe tbody tr th {\n",
       "        vertical-align: top;\n",
       "    }\n",
       "\n",
       "    .dataframe thead th {\n",
       "        text-align: right;\n",
       "    }\n",
       "</style>\n",
       "<table border=\"1\" class=\"dataframe\">\n",
       "  <thead>\n",
       "    <tr style=\"text-align: right;\">\n",
       "      <th></th>\n",
       "      <th>Level</th>\n",
       "      <th>Slope</th>\n",
       "      <th>Curve</th>\n",
       "    </tr>\n",
       "    <tr>\n",
       "      <th>Date</th>\n",
       "      <th></th>\n",
       "      <th></th>\n",
       "      <th></th>\n",
       "    </tr>\n",
       "  </thead>\n",
       "  <tbody>\n",
       "    <tr>\n",
       "      <th>2010-01-05</th>\n",
       "      <td>2.479370</td>\n",
       "      <td>3.888800</td>\n",
       "      <td>-0.524148</td>\n",
       "    </tr>\n",
       "    <tr>\n",
       "      <th>2010-01-06</th>\n",
       "      <td>2.249886</td>\n",
       "      <td>3.792289</td>\n",
       "      <td>-0.456785</td>\n",
       "    </tr>\n",
       "    <tr>\n",
       "      <th>2010-01-07</th>\n",
       "      <td>2.377425</td>\n",
       "      <td>3.985721</td>\n",
       "      <td>-0.444246</td>\n",
       "    </tr>\n",
       "    <tr>\n",
       "      <th>2010-01-08</th>\n",
       "      <td>2.396440</td>\n",
       "      <td>3.966696</td>\n",
       "      <td>-0.475048</td>\n",
       "    </tr>\n",
       "    <tr>\n",
       "      <th>2010-01-11</th>\n",
       "      <td>2.292577</td>\n",
       "      <td>3.985000</td>\n",
       "      <td>-0.413060</td>\n",
       "    </tr>\n",
       "    <tr>\n",
       "      <th>...</th>\n",
       "      <td>...</td>\n",
       "      <td>...</td>\n",
       "      <td>...</td>\n",
       "    </tr>\n",
       "    <tr>\n",
       "      <th>2022-12-23</th>\n",
       "      <td>9.247949</td>\n",
       "      <td>-1.854960</td>\n",
       "      <td>1.037102</td>\n",
       "    </tr>\n",
       "    <tr>\n",
       "      <th>2022-12-27</th>\n",
       "      <td>9.563351</td>\n",
       "      <td>-1.739185</td>\n",
       "      <td>1.111409</td>\n",
       "    </tr>\n",
       "    <tr>\n",
       "      <th>2022-12-28</th>\n",
       "      <td>9.617610</td>\n",
       "      <td>-1.638873</td>\n",
       "      <td>1.098185</td>\n",
       "    </tr>\n",
       "    <tr>\n",
       "      <th>2022-12-29</th>\n",
       "      <td>9.521516</td>\n",
       "      <td>-1.742785</td>\n",
       "      <td>1.091590</td>\n",
       "    </tr>\n",
       "    <tr>\n",
       "      <th>2022-12-30</th>\n",
       "      <td>9.671534</td>\n",
       "      <td>-1.666011</td>\n",
       "      <td>1.048237</td>\n",
       "    </tr>\n",
       "  </tbody>\n",
       "</table>\n",
       "<p>3252 rows × 3 columns</p>\n",
       "</div>"
      ],
      "text/plain": [
       "               Level     Slope     Curve\n",
       "Date                                    \n",
       "2010-01-05  2.479370  3.888800 -0.524148\n",
       "2010-01-06  2.249886  3.792289 -0.456785\n",
       "2010-01-07  2.377425  3.985721 -0.444246\n",
       "2010-01-08  2.396440  3.966696 -0.475048\n",
       "2010-01-11  2.292577  3.985000 -0.413060\n",
       "...              ...       ...       ...\n",
       "2022-12-23  9.247949 -1.854960  1.037102\n",
       "2022-12-27  9.563351 -1.739185  1.111409\n",
       "2022-12-28  9.617610 -1.638873  1.098185\n",
       "2022-12-29  9.521516 -1.742785  1.091590\n",
       "2022-12-30  9.671534 -1.666011  1.048237\n",
       "\n",
       "[3252 rows x 3 columns]"
      ]
     },
     "execution_count": 56,
     "metadata": {},
     "output_type": "execute_result"
    }
   ],
   "source": [
    "# En el lenguaje de Data Science a estos Factores se les conoce como 'Scores' o PC Scores\n",
    "orthogonal_factor = pd.DataFrame(YC_PCA, index = yield_df.index[1:], columns = components)\n",
    "orthogonal_factor \n"
   ]
  },
  {
   "cell_type": "code",
   "execution_count": 57,
   "metadata": {},
   "outputs": [
    {
     "data": {
      "text/plain": [
       "<Axes: xlabel='Date'>"
      ]
     },
     "execution_count": 57,
     "metadata": {},
     "output_type": "execute_result"
    },
    {
     "data": {
      "image/png": "[encoded data removed]",
      "text/plain": [
       "<Figure size 640x480 with 1 Axes>"
      ]
     },
     "metadata": {},
     "output_type": "display_data"
    }
   ],
   "source": [
    "orthogonal_factor = orthogonal_factor.sort_index()\n",
    "orthogonal_factor['Level'].plot()"
   ]
  },
  {
   "cell_type": "code",
   "execution_count": 58,
   "metadata": {},
   "outputs": [
    {
     "data": {
      "text/plain": [
       "<Axes: xlabel='Date'>"
      ]
     },
     "execution_count": 58,
     "metadata": {},
     "output_type": "execute_result"
    },
    {
     "data": {
      "image/png": "[encoded data removed]",
      "text/plain": [
       "<Figure size 640x480 with 1 Axes>"
      ]
     },
     "metadata": {},
     "output_type": "display_data"
    }
   ],
   "source": [
    "orthogonal_factor['Slope'].plot()"
   ]
  },
  {
   "cell_type": "code",
   "execution_count": 59,
   "metadata": {},
   "outputs": [
    {
     "data": {
      "text/plain": [
       "<Axes: xlabel='Date'>"
      ]
     },
     "execution_count": 59,
     "metadata": {},
     "output_type": "execute_result"
    },
    {
     "data": {
      "image/png": "[encoded data removed]",
      "text/plain": [
       "<Figure size 640x480 with 1 Axes>"
      ]
     },
     "metadata": {},
     "output_type": "display_data"
    }
   ],
   "source": [
    "orthogonal_factor['Curve'].plot()"
   ]
  },
  {
   "cell_type": "markdown",
   "metadata": {},
   "source": [
    "### Referencias \n",
    "\n",
    "EDHEC-Risk Institute (2019). Chapter 1.2 – Technical Supplement: Scientific. Lectures Notes for Advances in Asset Allocation Seminar 2020.\n",
    "\n",
    "EDHEC-Risk Institute (2019). Chapter 1.3 – Technical Supplement: Scientific. Lectures Notes for Advances in Asset Allocation Seminar 2020."
   ]
  }
 ],
 "metadata": {
  "kernelspec": {
   "display_name": "CEFA_2025_env",
   "language": "python",
   "name": "python3"
  },
  "language_info": {
   "codemirror_mode": {
    "name": "ipython",
    "version": 3
   },
   "file_extension": ".py",
   "mimetype": "text/x-python",
   "name": "python",
   "nbconvert_exporter": "python",
   "pygments_lexer": "ipython3",
   "version": "3.9.5"
  }
 },
 "nbformat": 4,
 "nbformat_minor": 2
}
