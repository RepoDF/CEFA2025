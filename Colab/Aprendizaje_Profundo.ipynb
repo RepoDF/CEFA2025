{
  "cells": [
    {
      "cell_type": "markdown",
      "id": "6c9acc36",
      "metadata": {},
      "source": [
        "  <a target=\"_blank\" href=\"https://colab.research.google.com/github/intro-stat-learning/ISLP_labs/blob/v2.2/Ch10-deeplearning-lab.ipynb\">\n",
        "  <img src=\"https://colab.research.google.com/assets/colab-badge.svg\" alt=\"Open In Colab\"/>\n",
        "  </a>\n",
        "\n",
        "  [![Binder](https://mybinder.org/badge_logo.svg)](https://mybinder.org/v2/gh/intro-stat-learning/ISLP_labs/v2.2?labpath=Ch10-deeplearning-lab.ipynb)"
      ]
    },
    {
      "cell_type": "markdown",
      "id": "6pPJrwWf9zhf",
      "metadata": {
        "id": "6pPJrwWf9zhf"
      },
      "source": [
        "\n",
        "### Aprendizaje Profundo\n",
        "\n",
        "Ejemplo red neuronal simple.\n",
        "\n",
        "Podemos entonces introducir el ejemplo más directo de red neuronal que se trata del modelo logit, como lo revisamos en las notas de clase. Para ello vamos a usar una base de datos bastante popularizada que se trata de la base de datos de mnist la cuál fue compilada por Yann Le Cun entre otros expertos en AI.\n",
        "\n",
        "La idea de esta base de datos es poder clasificar los dígitos manuscritos. Entre las siguientes opciones: (0,1,2,3,4,5,6,7,8,9). Para ello primero debemos instalar algunas librerías complementarias para el trabajo de ciencia de datos. \n",
        "\n",
        "La siguiente implementación de una red neuronal simple esta basado en la implementación presentada en el documento building a logistic regresison: https://machinelearningmastery.com/building-a-logistic-regression-classifier-in-pytorch/. La cuál hace una implementación más directa de la regresión logística.\n"
      ]
    },
    {
      "cell_type": "code",
      "execution_count": 53,
      "id": "nCY8pS6V_5rB",
      "metadata": {
        "id": "nCY8pS6V_5rB"
      },
      "outputs": [],
      "source": [
        "# %pip install torchmetrics\n",
        "# %pip install torchinfo\n",
        "# %pip install ISLP"
      ]
    },
    {
      "cell_type": "code",
      "execution_count": 54,
      "id": "WPxeR1tVBnRf",
      "metadata": {
        "colab": {
          "base_uri": "https://localhost:8080/"
        },
        "id": "WPxeR1tVBnRf",
        "outputId": "42fb0f45-7ac4-4f70-b3e3-accb5ea40bf4"
      },
      "outputs": [
        {
          "name": "stderr",
          "output_type": "stream",
          "text": [
            "Seed set to 0\n"
          ]
        }
      ],
      "source": [
        "### Importamos las librerias de Pytorch.\n",
        "import os\n",
        "import numpy as np, pandas as pd\n",
        "from matplotlib.pyplot import subplots\n",
        "from sklearn.linear_model import \\\n",
        "     (LinearRegression,\n",
        "      LogisticRegression,\n",
        "      Lasso)\n",
        "from sklearn.preprocessing import StandardScaler\n",
        "from sklearn.model_selection import KFold\n",
        "from sklearn.pipeline import Pipeline\n",
        "from ISLP import load_data\n",
        "from ISLP.models import ModelSpec as MS\n",
        "from sklearn.model_selection import \\\n",
        "     (train_test_split,\n",
        "      GridSearchCV)\n",
        "\n",
        "import torch\n",
        "from torch import nn\n",
        "from torch.optim import RMSprop\n",
        "from torch.utils.data import TensorDataset\n",
        "\n",
        "from torchmetrics import (MeanAbsoluteError,\n",
        "                          R2Score)\n",
        "from torchinfo import summary\n",
        "\n",
        "from pytorch_lightning import Trainer\n",
        "from pytorch_lightning.loggers import CSVLogger\n",
        "\n",
        "from pytorch_lightning import seed_everything\n",
        "seed_everything(0, workers=True)\n",
        "torch.use_deterministic_algorithms(True, warn_only=True)\n",
        "\n",
        "from torchvision.io import read_image\n",
        "from torchvision.datasets import MNIST, CIFAR100\n",
        "from torchvision.models import (resnet50,\n",
        "                                ResNet50_Weights)\n",
        "from torchvision.transforms import (Resize,\n",
        "                                    Normalize,\n",
        "                                    CenterCrop,\n",
        "                                    ToTensor)\n",
        "from ISLP.torch import (SimpleDataModule,\n",
        "                        SimpleModule,\n",
        "                        ErrorTracker,\n",
        "                        rec_num_workers)\n",
        "\n",
        "from ISLP.torch.imdb import (load_lookup,\n",
        "                             load_tensor,\n",
        "                             load_sparse,\n",
        "                             load_sequential)\n",
        "\n",
        "from glob import glob\n",
        "import json"
      ]
    },
    {
      "cell_type": "code",
      "execution_count": 55,
      "id": "e742c241",
      "metadata": {},
      "outputs": [],
      "source": [
        "path = os.path.dirname(os.getcwd())\n",
        "\n",
        "if path == '/': # Si estamos en la raíz del sistema, entonces no es necesario agregar la carpeta datos. (Aplica en Google Colab)\n",
        "    file_path = os.path.join('datos', 'forex_data.csv')\n",
        "else:\n",
        "    file_path = os.path.join(path,'datos', 'forex_data.csv')\n"
      ]
    },
    {
      "cell_type": "code",
      "execution_count": 56,
      "id": "IOx61ZxDCCyz",
      "metadata": {
        "colab": {
          "base_uri": "https://localhost:8080/"
        },
        "id": "IOx61ZxDCCyz",
        "outputId": "b7a463ab-6b08-4577-c6f0-09b9ba8b1581"
      },
      "outputs": [
        {
          "data": {
            "text/plain": [
              "Dataset MNIST\n",
              "    Number of datapoints: 60000\n",
              "    Root location: data\n",
              "    Split: Train\n",
              "    StandardTransform\n",
              "Transform: ToTensor()"
            ]
          },
          "execution_count": 56,
          "metadata": {},
          "output_type": "execute_result"
        }
      ],
      "source": [
        "(mnist_train,\n",
        " mnist_test) = [MNIST(root='data',\n",
        "                      train=train,\n",
        "                      download=True,\n",
        "                      transform=ToTensor())\n",
        "                for train in [True, False]]\n",
        "mnist_train"
      ]
    },
    {
      "cell_type": "code",
      "execution_count": 57,
      "id": "kH20r_13ChIG",
      "metadata": {
        "colab": {
          "base_uri": "https://localhost:8080/",
          "height": 430
        },
        "id": "kH20r_13ChIG",
        "outputId": "6f52b945-84cb-4df5-90a6-3d07dd108421"
      },
      "outputs": [
        {
          "data": {
            "image/png": "[encoded data removed]",
            "text/plain": [
              "<Figure size 640x480 with 1 Axes>"
            ]
          },
          "metadata": {},
          "output_type": "display_data"
        }
      ],
      "source": [
        "###\n",
        "import matplotlib.pyplot as plt\n",
        "\n",
        "##3 Podemos ver entonces una ejemplo del digito manuscrito.\n",
        "img_5 = mnist_train[1][0].numpy().reshape(28, 28)\n",
        "plt.imshow(img_5, cmap='gray')\n",
        "plt.show()\n"
      ]
    },
    {
      "cell_type": "markdown",
      "id": "yPwNEQ8zCz7S",
      "metadata": {
        "id": "yPwNEQ8zCz7S"
      },
      "source": [
        "Podemos entonces cargar los datos usando la función load Dataset con la función DataLoader con el objetivo de cargar los datos al modelo en Batches o Lotes."
      ]
    },
    {
      "cell_type": "code",
      "execution_count": 58,
      "id": "c0w-WF1vC8pl",
      "metadata": {
        "colab": {
          "base_uri": "https://localhost:8080/"
        },
        "id": "c0w-WF1vC8pl",
        "outputId": "30b96a72-0c4b-4769-8756-502daa1c7689"
      },
      "outputs": [
        {
          "data": {
            "text/plain": [
              "<torch.utils.data.dataloader.DataLoader at 0x250500af370>"
            ]
          },
          "execution_count": 58,
          "metadata": {},
          "output_type": "execute_result"
        }
      ],
      "source": [
        "from torch.utils.data import DataLoader\n",
        "# Let's do it with a batch size of 32.\n",
        "batch_size_1 = 32\n",
        "train_loader = DataLoader(dataset = mnist_train, batch_size = batch_size_1, shuffle = True)\n",
        "train_loader"
      ]
    },
    {
      "cell_type": "code",
      "execution_count": 59,
      "id": "wbTlPpoHDtK8",
      "metadata": {
        "colab": {
          "base_uri": "https://localhost:8080/"
        },
        "id": "wbTlPpoHDtK8",
        "outputId": "fa758377-8452-405d-ac81-aa1ddaf5fbbb"
      },
      "outputs": [
        {
          "data": {
            "text/plain": [
              "LogisticRegression(\n",
              "  (linear): Linear(in_features=784, out_features=10, bias=True)\n",
              ")"
            ]
          },
          "execution_count": 59,
          "metadata": {},
          "output_type": "execute_result"
        }
      ],
      "source": [
        "# Vamos entonces a definir una red neuronal heredando de la clase de nn.Module para definir un modelo de Regresión Logísticas.\n",
        "class LogisticRegression(nn.Module):\n",
        "  def __init__(self, n_inputs, n_outputs):\n",
        "        ### El método de súper se aplica en este caso para que la clase herede los métodos de clase padre. \n",
        "        super(LogisticRegression, self).__init__()\n",
        "        ## En este caso incluirmos una capa oculta que toma n_inputs y produce n_outputs.\n",
        "        self.linear = torch.nn.Linear(n_inputs, n_outputs)\n",
        "    # make predictions\n",
        "  def forward(self, x):\n",
        "        ## Finalmente para genear los resultados de aplicar la red aplicamos la función sigmoide.\n",
        "        y_pred = torch.sigmoid(self.linear(x))\n",
        "        return y_pred\n",
        "\n",
        "### En este caso instanciamos la clase con los métodos del constructor los cuáles requiren unos n_inputs de tamaño 28x28 . \n",
        "### y n_outputs de 10 dígitos que se produciran. \n",
        "n_inputs = 28*28\n",
        "n_outputs = 10\n",
        "\n",
        "log_regr = LogisticRegression(n_inputs, n_outputs)\n",
        "log_regr"
      ]
    },
    {
      "cell_type": "markdown",
      "id": "vFIX6OwwFCjb",
      "metadata": {
        "id": "vFIX6OwwFCjb"
      },
      "source": [
        "### Entrenamos el clasificador.\n",
        "\n",
        "La red neuronal se puede entrenar con varias funciones dependiendo de la característica del output. Existen fundamentalmente dos: \n",
        "\n",
        "(1) El MSE. Para casos de Regresión.  \n",
        "\n",
        "En el caso de la función de MSE su definición era la siguiente: \n",
        "\n",
        "$R_{i}(\\theta) = \\Sigma_{i = 1}^{N} (y_{i}-f_{\\theta} (x_{i}))$ \n",
        "\n",
        "(2) La función de Cross Entropía. Para el problema particular de Clasificación que estamos queriendo resolver se define de la siguiente manera: \n",
        "\n",
        "$R_{i}(\\theta) = -\\Sigma_{i=1}^{n} \\Sigma_{i=1}^{9} y_{im}log(f_{m}(x_{i})) $ \n",
        "\n",
        "Particularmente en la librería de PyTorch podemos definir dicha optimización siempre teniendo presentes el parámetro de backpropagation. \n",
        "\n",
        "El cuál podemos recuperar de las notas de clase, constituye la magnitud del cambio en los parámetros en dirección del gradiente.\n",
        "\n",
        "$\\theta^{m} = \\theta^{m+1} - \\rho\\nabla R(\\theta^{m}) $ \n",
        "\n",
        "Con base en la implementación presentado por Hastie, Tibshirani et Al. Mostramos entonces una implementación de una red neuronal de múltiples capas."
      ]
    },
    {
      "cell_type": "code",
      "execution_count": 60,
      "id": "uQakX2SdE08N",
      "metadata": {
        "id": "uQakX2SdE08N"
      },
      "outputs": [
        {
          "name": "stdout",
          "output_type": "stream",
          "text": [
            "Epoch: 0. Loss: 2.2104101181030273. Accuracy: 61.07\n",
            "Epoch: 1. Loss: 2.1061415672302246. Accuracy: 72.57\n",
            "Epoch: 2. Loss: 2.0380632877349854. Accuracy: 76.57\n",
            "Epoch: 3. Loss: 2.021063804626465. Accuracy: 78.7\n",
            "Epoch: 4. Loss: 1.9599621295928955. Accuracy: 80.1\n",
            "Epoch: 5. Loss: 1.9122592210769653. Accuracy: 80.93\n",
            "Epoch: 6. Loss: 1.9080702066421509. Accuracy: 81.45\n",
            "Epoch: 7. Loss: 1.8631993532180786. Accuracy: 81.87\n",
            "Epoch: 8. Loss: 1.8526206016540527. Accuracy: 82.21\n",
            "Epoch: 9. Loss: 1.8818299770355225. Accuracy: 82.56\n",
            "Epoch: 10. Loss: 1.837859869003296. Accuracy: 82.76\n",
            "Epoch: 11. Loss: 1.7677162885665894. Accuracy: 83.1\n",
            "Epoch: 12. Loss: 1.833802342414856. Accuracy: 83.38\n",
            "Epoch: 13. Loss: 1.821901798248291. Accuracy: 83.56\n",
            "Epoch: 14. Loss: 1.7801607847213745. Accuracy: 83.65\n",
            "Epoch: 15. Loss: 1.7475173473358154. Accuracy: 83.82\n",
            "Epoch: 16. Loss: 1.8237555027008057. Accuracy: 84.09\n",
            "Epoch: 17. Loss: 1.7580866813659668. Accuracy: 84.21\n",
            "Epoch: 18. Loss: 1.77474844455719. Accuracy: 84.31\n",
            "Epoch: 19. Loss: 1.7162127494812012. Accuracy: 84.47\n",
            "Epoch: 20. Loss: 1.7484067678451538. Accuracy: 84.62\n",
            "Epoch: 21. Loss: 1.806355357170105. Accuracy: 84.75\n",
            "Epoch: 22. Loss: 1.7720530033111572. Accuracy: 84.86\n",
            "Epoch: 23. Loss: 1.7510758638381958. Accuracy: 84.99\n",
            "Epoch: 24. Loss: 1.7071735858917236. Accuracy: 85.08\n",
            "Epoch: 25. Loss: 1.7299977540969849. Accuracy: 85.12\n",
            "Epoch: 26. Loss: 1.7439159154891968. Accuracy: 85.2\n",
            "Epoch: 27. Loss: 1.746443271636963. Accuracy: 85.3\n",
            "Epoch: 28. Loss: 1.7207399606704712. Accuracy: 85.36\n",
            "Epoch: 29. Loss: 1.7525583505630493. Accuracy: 85.45\n",
            "Epoch: 30. Loss: 1.7110223770141602. Accuracy: 85.5\n",
            "Epoch: 31. Loss: 1.7109240293502808. Accuracy: 85.55\n",
            "Epoch: 32. Loss: 1.6799440383911133. Accuracy: 85.62\n",
            "Epoch: 33. Loss: 1.7226901054382324. Accuracy: 85.68\n",
            "Epoch: 34. Loss: 1.7341773509979248. Accuracy: 85.75\n",
            "Epoch: 35. Loss: 1.710544228553772. Accuracy: 85.8\n",
            "Epoch: 36. Loss: 1.7118587493896484. Accuracy: 85.83\n",
            "Epoch: 37. Loss: 1.7245962619781494. Accuracy: 85.9\n",
            "Epoch: 38. Loss: 1.7246283292770386. Accuracy: 85.96\n",
            "Epoch: 39. Loss: 1.6934725046157837. Accuracy: 85.98\n",
            "Epoch: 40. Loss: 1.7182896137237549. Accuracy: 86.03\n",
            "Epoch: 41. Loss: 1.7893950939178467. Accuracy: 86.06\n",
            "Epoch: 42. Loss: 1.8016310930252075. Accuracy: 86.12\n",
            "Epoch: 43. Loss: 1.716361403465271. Accuracy: 86.2\n",
            "Epoch: 44. Loss: 1.7235432863235474. Accuracy: 86.22\n",
            "Epoch: 45. Loss: 1.6942178010940552. Accuracy: 86.25\n",
            "Epoch: 46. Loss: 1.7549442052841187. Accuracy: 86.33\n",
            "Epoch: 47. Loss: 1.7549569606781006. Accuracy: 86.38\n",
            "Epoch: 48. Loss: 1.7349019050598145. Accuracy: 86.43\n",
            "Epoch: 49. Loss: 1.6692619323730469. Accuracy: 86.45\n"
          ]
        }
      ],
      "source": [
        "### Definimos entonces el algoritmo de optimización que será el de SGD. \n",
        "optimizer = torch.optim.SGD(log_regr.parameters(), lr=0.001)\n",
        "criterion = torch.nn.CrossEntropyLoss()\n",
        "### Definimos el número de epochs que serán implementados en el modelo. \n",
        "epochs = 50\n",
        "### Adicionalmente con propositos explicativos reservamos los valores de la función de perdida en la lista loss. \n",
        "Loss = []\n",
        "### También reservamos el accuracy de cada modelo. \n",
        "acc = []\n",
        "for epoch in range(epochs):\n",
        "    for i, (images, labels) in enumerate(train_loader):\n",
        "        optimizer.zero_grad()\n",
        "        outputs = log_regr(images.view(-1, 28*28))\n",
        "        loss = criterion(outputs, labels)\n",
        "        # Loss.append(loss.item())\n",
        "        loss.backward()\n",
        "        optimizer.step()\n",
        "    Loss.append(loss.item())\n",
        "    correct = 0\n",
        "    for images, labels in mnist_test:\n",
        "        outputs = log_regr(images.view(-1, 28*28))\n",
        "        _, predicted = torch.max(outputs.data, 1)\n",
        "        correct += (predicted == labels).sum()\n",
        "    accuracy = 100 * (correct.item()) / len(mnist_test)\n",
        "    acc.append(accuracy)\n",
        "    print('Epoch: {}. Loss: {}. Accuracy: {}'.format(epoch, loss.item(), accuracy))\n"
      ]
    },
    {
      "cell_type": "code",
      "execution_count": 61,
      "id": "74pwnWyvCGZB",
      "metadata": {
        "id": "74pwnWyvCGZB"
      },
      "outputs": [
        {
          "name": "stdout",
          "output_type": "stream",
          "text": [
            "X:  torch.Size([256, 1, 28, 28])\n",
            "Y:  torch.Size([256])\n",
            "X:  torch.Size([256, 1, 28, 28])\n",
            "Y:  torch.Size([256])\n"
          ]
        }
      ],
      "source": [
        "max_num_workers = rec_num_workers()\n",
        "mnist_dm = SimpleDataModule(mnist_train,\n",
        "                            mnist_test,\n",
        "                            validation=0.2,\n",
        "                            num_workers=max_num_workers,\n",
        "                            batch_size=256)\n",
        "\n",
        "mnist_dm\n",
        "\n",
        "### El siguiente método separa las variables de respuesta de las variables de entrada. \n",
        "for idx, (X_ ,Y_) in enumerate(mnist_dm.train_dataloader()):\n",
        "    print('X: ', X_.shape)\n",
        "    print('Y: ', Y_.shape)\n",
        "    if idx >= 1:\n",
        "        break"
      ]
    },
    {
      "cell_type": "code",
      "execution_count": 62,
      "id": "KNL_ad-0CF7H",
      "metadata": {
        "id": "KNL_ad-0CF7H"
      },
      "outputs": [],
      "source": [
        "### Procedemos entonces con el resto de parametros "
      ]
    },
    {
      "cell_type": "markdown",
      "id": "64b60868",
      "metadata": {},
      "source": [
        "Procedemos entonces con la definición de la clase MNIST model para la implementación de una red neuronal de múltiples capas. "
      ]
    },
    {
      "cell_type": "code",
      "execution_count": 63,
      "id": "6323832b",
      "metadata": {},
      "outputs": [
        {
          "data": {
            "text/plain": [
              "MNISTModel(\n",
              "  (layer1): Sequential(\n",
              "    (0): Flatten(start_dim=1, end_dim=-1)\n",
              "    (1): Linear(in_features=784, out_features=256, bias=True)\n",
              "    (2): ReLU()\n",
              "    (3): Dropout(p=0.4, inplace=False)\n",
              "  )\n",
              "  (layer2): Sequential(\n",
              "    (0): Linear(in_features=256, out_features=128, bias=True)\n",
              "    (1): ReLU()\n",
              "    (2): Dropout(p=0.3, inplace=False)\n",
              "  )\n",
              "  (_forward): Sequential(\n",
              "    (0): Sequential(\n",
              "      (0): Flatten(start_dim=1, end_dim=-1)\n",
              "      (1): Linear(in_features=784, out_features=256, bias=True)\n",
              "      (2): ReLU()\n",
              "      (3): Dropout(p=0.4, inplace=False)\n",
              "    )\n",
              "    (1): Sequential(\n",
              "      (0): Linear(in_features=256, out_features=128, bias=True)\n",
              "      (1): ReLU()\n",
              "      (2): Dropout(p=0.3, inplace=False)\n",
              "    )\n",
              "    (2): Linear(in_features=128, out_features=10, bias=True)\n",
              "  )\n",
              ")"
            ]
          },
          "execution_count": 63,
          "metadata": {},
          "output_type": "execute_result"
        }
      ],
      "source": [
        "class MNISTModel(nn.Module):\n",
        "    def __init__(self):\n",
        "        super(MNISTModel, self).__init__()\n",
        "        ### En la primera capa se hace una codificación de 28 x 28 a una codificación de un output de 256\n",
        "        self.layer1 = nn.Sequential(\n",
        "            nn.Flatten(),\n",
        "            nn.Linear(28*28, 256),\n",
        "            # Se introduce una regularización no lineal.\n",
        "            nn.ReLU(),\n",
        "            # Se introduce un dropout aleatorio del 40% de las redes. \n",
        "            nn.Dropout(0.4))\n",
        "        self.layer2 = nn.Sequential(\n",
        "            # Se introduce una segunda capa que procesa el output de 256 y lo procesa en output de 128 unidades.. \n",
        "            nn.Linear(256, 128),\n",
        "            # Se introduce una regularización no lineal\n",
        "            nn.ReLU(),\n",
        "            # Se introduce un dropout aleatorio del 30% de las undidades. \n",
        "            nn.Dropout(0.3))\n",
        "        self._forward = nn.Sequential(\n",
        "            # Por último se define que se generan los outputs de la primera capa que alimenatan a su vez los outputs de la segunda capa. \n",
        "            self.layer1,\n",
        "            self.layer2,\n",
        "            # Se comprime finalmente el output de la segunda parte en los 10 dígitos que se debía codificar. \n",
        "            nn.Linear(128, 10))\n",
        "        \n",
        "    def forward(self, x):\n",
        "        return self._forward(x)\n",
        "\n",
        "### En este caso no dejamos la flexibilidad del número de inputs y del número de outputs que puede generar. \n",
        "mnist_model = MNISTModel()\n",
        "mnist_model"
      ]
    },
    {
      "cell_type": "code",
      "execution_count": 64,
      "id": "32ae0f24",
      "metadata": {},
      "outputs": [
        {
          "data": {
            "text/plain": [
              "torch.Size([256, 10])"
            ]
          },
          "execution_count": 64,
          "metadata": {},
          "output_type": "execute_result"
        }
      ],
      "source": [
        "mnist_model(X_).size()"
      ]
    },
    {
      "cell_type": "code",
      "execution_count": 65,
      "id": "c4a0e253",
      "metadata": {},
      "outputs": [
        {
          "data": {
            "text/plain": [
              "===================================================================================================================\n",
              "Layer (type:depth-idx)                   Input Shape               Output Shape              Param #\n",
              "===================================================================================================================\n",
              "MNISTModel                               [256, 1, 28, 28]          [256, 10]                 --\n",
              "├─Sequential: 1-1                        [256, 1, 28, 28]          [256, 10]                 --\n",
              "│    └─Sequential: 2-1                   [256, 1, 28, 28]          [256, 256]                --\n",
              "│    │    └─Flatten: 3-1                 [256, 1, 28, 28]          [256, 784]                --\n",
              "│    │    └─Linear: 3-2                  [256, 784]                [256, 256]                200,960\n",
              "│    │    └─ReLU: 3-3                    [256, 256]                [256, 256]                --\n",
              "│    │    └─Dropout: 3-4                 [256, 256]                [256, 256]                --\n",
              "│    └─Sequential: 2-2                   [256, 256]                [256, 128]                --\n",
              "│    │    └─Linear: 3-5                  [256, 256]                [256, 128]                32,896\n",
              "│    │    └─ReLU: 3-6                    [256, 128]                [256, 128]                --\n",
              "│    │    └─Dropout: 3-7                 [256, 128]                [256, 128]                --\n",
              "│    └─Linear: 2-3                       [256, 128]                [256, 10]                 1,290\n",
              "===================================================================================================================\n",
              "Total params: 235,146\n",
              "Trainable params: 235,146\n",
              "Non-trainable params: 0\n",
              "Total mult-adds (M): 60.20\n",
              "===================================================================================================================\n",
              "Input size (MB): 0.80\n",
              "Forward/backward pass size (MB): 0.81\n",
              "Params size (MB): 0.94\n",
              "Estimated Total Size (MB): 2.55\n",
              "==================================================================================================================="
            ]
          },
          "execution_count": 65,
          "metadata": {},
          "output_type": "execute_result"
        }
      ],
      "source": [
        "summary(mnist_model,\n",
        "        input_data=X_,\n",
        "        col_names=['input_size',\n",
        "                   'output_size',\n",
        "                   'num_params'])"
      ]
    },
    {
      "cell_type": "code",
      "execution_count": 66,
      "id": "58c65b61",
      "metadata": {},
      "outputs": [
        {
          "name": "stderr",
          "output_type": "stream",
          "text": [
            "GPU available: False, used: False\n",
            "TPU available: False, using: 0 TPU cores\n",
            "HPU available: False, using: 0 HPUs\n",
            "\n",
            "  | Name  | Type             | Params | Mode \n",
            "---------------------------------------------------\n",
            "0 | model | MNISTModel       | 235 K  | train\n",
            "1 | loss  | CrossEntropyLoss | 0      | train\n",
            "---------------------------------------------------\n",
            "235 K     Trainable params\n",
            "0         Non-trainable params\n",
            "235 K     Total params\n",
            "0.941     Total estimated model params size (MB)\n",
            "13        Modules in train mode\n",
            "0         Modules in eval mode\n"
          ]
        },
        {
          "name": "stderr",
          "output_type": "stream",
          "text": [
            "`Trainer.fit` stopped: `max_epochs=30` reached.\n"
          ]
        }
      ],
      "source": [
        "mnist_dm = SimpleDataModule(mnist_train,\n",
        "                            mnist_test,\n",
        "                            validation=0.2,\n",
        "                            num_workers=max_num_workers,\n",
        "                            batch_size=256)\n",
        "### Definimos entonces un CSVLogger con la intención de reservar los outputs del CSV. \n",
        "\n",
        "\n",
        "### Definimos entonces el objeto entrenador instanciado con base en el método de mnist_logger que definimos., \n",
        "### \n",
        "mnist_logger = CSVLogger('logs', name='MNIST')\n",
        "\n",
        "mnist_trainer = Trainer(deterministic=True,\n",
        "                        max_epochs=30,\n",
        "                        logger=mnist_logger,\n",
        "                        enable_progress_bar=False,\n",
        "                        callbacks=[ErrorTracker()])\n",
        "\n",
        "\n",
        "\n",
        "mnist_module = SimpleModule.classification(mnist_model,\n",
        "                                           num_classes=10)\n",
        "\n",
        "\n",
        "### Entrenamos entonces el modelo. \n",
        "mnist_trainer.fit(mnist_module,\n",
        "                  datamodule=mnist_dm)\n"
      ]
    },
    {
      "cell_type": "code",
      "execution_count": 67,
      "id": "ce1989ec",
      "metadata": {},
      "outputs": [
        {
          "name": "stdout",
          "output_type": "stream",
          "text": [
            "────────────────────────────────────────────────────────────────────────────────────────────────────────────────────────\n",
            "       Test metric             DataLoader 0\n",
            "────────────────────────────────────────────────────────────────────────────────────────────────────────────────────────\n",
            "      test_accuracy         0.9571999907493591\n",
            "        test_loss           0.17949163913726807\n",
            "────────────────────────────────────────────────────────────────────────────────────────────────────────────────────────\n"
          ]
        },
        {
          "data": {
            "text/plain": [
              "[{'test_loss': 0.17949163913726807, 'test_accuracy': 0.9571999907493591}]"
            ]
          },
          "execution_count": 67,
          "metadata": {},
          "output_type": "execute_result"
        }
      ],
      "source": [
        "mnist_trainer.test(mnist_module,\n",
        "                   datamodule=mnist_dm)"
      ]
    },
    {
      "cell_type": "code",
      "execution_count": 68,
      "id": "49991c2a",
      "metadata": {},
      "outputs": [
        {
          "data": {
            "text/plain": [
              "'logs\\\\MNIST\\\\version_5\\\\metrics.csv'"
            ]
          },
          "execution_count": 68,
          "metadata": {},
          "output_type": "execute_result"
        }
      ],
      "source": [
        "mnist_logger.experiment.metrics_file_path"
      ]
    },
    {
      "cell_type": "code",
      "execution_count": 69,
      "id": "b6bb9d49",
      "metadata": {},
      "outputs": [
        {
          "data": {
            "text/plain": [
              "'c:\\\\Users\\\\jcamargo\\\\OneDrive - FLAR\\\\Documentos\\\\CEFA_Repo_2025_Office\\\\CEFA2025'"
            ]
          },
          "execution_count": 69,
          "metadata": {},
          "output_type": "execute_result"
        }
      ],
      "source": [
        "path"
      ]
    },
    {
      "cell_type": "code",
      "execution_count": 70,
      "id": "c7f130f9",
      "metadata": {},
      "outputs": [
        {
          "data": {
            "image/png": "[encoded data removed]",
            "text/plain": [
              "<Figure size 600x600 with 1 Axes>"
            ]
          },
          "metadata": {},
          "output_type": "display_data"
        }
      ],
      "source": [
        "### Recibimos los datos registrados en el csv. \n",
        "mnist_results = pd.read_csv(os.path.join(path, \"Colab\", mnist_logger.experiment.metrics_file_path))\n",
        "fig, ax = subplots(1, 1, figsize=(6, 6))\n",
        "\n",
        "### Usamos una función para encontrar el gráfico con la evolución de los errores de validación y de entrenamiento. \n",
        "\n",
        "def summary_plot(results,\n",
        "                 ax,\n",
        "                 col='loss',\n",
        "                 valid_legend='Validation',\n",
        "                 training_legend='Training',\n",
        "                 ylabel='Loss',\n",
        "                 fontsize=20):\n",
        "    for (column,\n",
        "         color,\n",
        "         label) in zip([f'train_{col}_epoch',\n",
        "                        f'valid_{col}'],\n",
        "                       ['black',\n",
        "                        'red'],\n",
        "                       [training_legend,\n",
        "                        valid_legend]):\n",
        "        results.plot(x='epoch',\n",
        "                     y=column,\n",
        "                     label=label,\n",
        "                     marker='o',\n",
        "                     color=color,\n",
        "                     ax=ax)\n",
        "    ax.set_xlabel('Epoch')\n",
        "    ax.set_ylabel(ylabel)\n",
        "    return ax\n",
        "\n",
        "### Finalmente graficamos el summary plot que hallamos obtenido. \n",
        "summary_plot(mnist_results,\n",
        "             ax,\n",
        "             col='accuracy',\n",
        "             ylabel='Accuracy')\n",
        "ax.set_ylim([0.5, 1])\n",
        "ax.set_ylabel('Accuracy')\n",
        "ax.set_xticks(np.linspace(0, 30, 7).astype(int));\n"
      ]
    },
    {
      "cell_type": "markdown",
      "id": "0c7021cd",
      "metadata": {},
      "source": [
        "Los resultados de esta regresión son comparados con los de la regresión logística. Por lo cuál en el mismo notebook se incluye una implementación de dicho modelo. "
      ]
    },
    {
      "cell_type": "code",
      "execution_count": 71,
      "id": "93d9c001",
      "metadata": {},
      "outputs": [
        {
          "name": "stderr",
          "output_type": "stream",
          "text": [
            "GPU available: False, used: False\n",
            "TPU available: False, using: 0 TPU cores\n",
            "HPU available: False, using: 0 HPUs\n",
            "\n",
            "  | Name  | Type             | Params | Mode \n",
            "---------------------------------------------------\n",
            "0 | model | MNIST_MLR        | 7.9 K  | train\n",
            "1 | loss  | CrossEntropyLoss | 0      | train\n",
            "---------------------------------------------------\n",
            "7.9 K     Trainable params\n",
            "0         Non-trainable params\n",
            "7.9 K     Total params\n",
            "0.031     Total estimated model params size (MB)\n",
            "5         Modules in train mode\n",
            "0         Modules in eval mode\n"
          ]
        },
        {
          "name": "stderr",
          "output_type": "stream",
          "text": [
            "`Trainer.fit` stopped: `max_epochs=30` reached.\n"
          ]
        }
      ],
      "source": [
        "class MNIST_MLR(nn.Module):\n",
        "    def __init__(self):\n",
        "        super(MNIST_MLR, self).__init__()\n",
        "        self.linear = nn.Sequential(nn.Flatten(),\n",
        "                                    nn.Linear(784, 10))\n",
        "    def forward(self, x):\n",
        "        return self.linear(x)\n",
        "\n",
        "mlr_model = MNIST_MLR()\n",
        "mlr_module = SimpleModule.classification(mlr_model,\n",
        "                                         num_classes=10)\n",
        "mlr_logger = CSVLogger('logs', name='MNIST_MLR')\n",
        "\n",
        "mlr_trainer = Trainer(deterministic=True,\n",
        "                      max_epochs=30,\n",
        "                      enable_progress_bar=False,\n",
        "                      callbacks=[ErrorTracker()])\n",
        "mlr_trainer.fit(mlr_module, datamodule=mnist_dm)"
      ]
    },
    {
      "cell_type": "code",
      "execution_count": 72,
      "id": "8e355fe8",
      "metadata": {},
      "outputs": [
        {
          "name": "stdout",
          "output_type": "stream",
          "text": [
            "────────────────────────────────────────────────────────────────────────────────────────────────────────────────────────\n",
            "       Test metric             DataLoader 0\n",
            "────────────────────────────────────────────────────────────────────────────────────────────────────────────────────────\n",
            "      test_accuracy         0.9203000068664551\n",
            "        test_loss           0.33038607239723206\n",
            "────────────────────────────────────────────────────────────────────────────────────────────────────────────────────────\n"
          ]
        },
        {
          "data": {
            "text/plain": [
              "[{'test_loss': 0.33038607239723206, 'test_accuracy': 0.9203000068664551}]"
            ]
          },
          "execution_count": 72,
          "metadata": {},
          "output_type": "execute_result"
        }
      ],
      "source": [
        "mlr_trainer.test(mlr_module,\n",
        "                 datamodule=mnist_dm)"
      ]
    },
    {
      "cell_type": "markdown",
      "id": "90a19b3a",
      "metadata": {},
      "source": [
        "Se encuentra entonces que los resultados de esta regresión loística logran tener un buen desempeño en los datos de prueba con un accuracy de cerca del 90%."
      ]
    },
    {
      "cell_type": "markdown",
      "id": "d03dc38b",
      "metadata": {},
      "source": [
        "### Referencias. \n",
        "\n",
        "Las referencias empleadas para el entranamiento de los notebooks. \n",
        "\n",
        "Building a Logistic Regression Classifier in Pytorch: https://machinelearningmastery.com/building-a-logistic-regression-classifier-in-pytorch/. \n",
        "\n",
        "Trebor, Hastie et AL. Deep Learning. Disponible en: https://colab.research.google.com/github/intro-stat-learning/ISLP_labs/blob/v2.2/Ch10-deeplearning-lab.ipynb#scrollTo=6ff23014\n"
      ]
    }
  ],
  "metadata": {
    "colab": {
      "provenance": []
    },
    "jupytext": {
      "cell_metadata_filter": "-all",
      "main_language": "python",
      "notebook_metadata_filter": "-all"
    },
    "kernelspec": {
      "display_name": "CEFA_2025_env",
      "language": "python",
      "name": "python3"
    },
    "language_info": {
      "codemirror_mode": {
        "name": "ipython",
        "version": 3
      },
      "file_extension": ".py",
      "mimetype": "text/x-python",
      "name": "python",
      "nbconvert_exporter": "python",
      "pygments_lexer": "ipython3",
      "version": "3.9.5"
    }
  },
  "nbformat": 4,
  "nbformat_minor": 5
}
